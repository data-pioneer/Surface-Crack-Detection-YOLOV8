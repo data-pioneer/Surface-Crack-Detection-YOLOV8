{
 "cells": [
  {
   "cell_type": "markdown",
   "metadata": {},
   "source": [
    "### NOTE: Yolo can detect 80 classes, thus we need to train it with cusctom dataset downloaded from Roboflow. \n",
    "The following are the steps to download specific dataset from Roboflow and train Yolo model.\n",
    "\n",
    "### 1. visit:: https://app.roboflow.com/\n",
    "#### a. click on Create workspace, then click on universe tab, where all datasets are available. \n",
    "#### b. click on vision project, you want to detect. \n",
    "####  c. Click on download dataset, and select the format as YOLOV8\n",
    "#### d. click on show download code. \n",
    "#### e. Copy the code, then run this code in colab. it will fetch this dataset from roboflow. \n",
    "####  we will use this dataset to train yolo from particular object detection, which is not available in it. \n",
    "####  f. After runing coding, dataset will get download.. \n",
    "####  G. In colab, click on folder, then downloaded data. click on data.yaml and change the path of train, test and valid path. then save data.yaml file.\n",
    "####  H. Then we need to train YOLO model with data.yaml\n",
    "####  I. After training. we need to create a model, for this renamne data.yaml(located run->detect->train->weight) file with custom_detector_model.pt  and create a model for objection which is created in crack_detector_Computer_Vision_Project.ipynb file."
   ]
  },
  {
   "cell_type": "code",
   "execution_count": null,
   "metadata": {},
   "outputs": [],
   "source": []
  },
  {
   "cell_type": "code",
   "execution_count": null,
   "metadata": {},
   "outputs": [],
   "source": []
  },
  {
   "cell_type": "code",
   "execution_count": 2,
   "metadata": {
    "colab": {
     "base_uri": "https://localhost:8080/",
     "height": 1000
    },
    "id": "i59q3m0dO-W3",
    "outputId": "840fa748-4507-4de3-b611-aee52f48f711"
   },
   "outputs": [
    {
     "name": "stdout",
     "output_type": "stream",
     "text": [
      "Collecting roboflow\n",
      "  Downloading roboflow-1.1.16-py3-none-any.whl (69 kB)\n",
      "\u001b[2K     \u001b[90m━━━━━━━━━━━━━━━━━━━━━━━━━━━━━━━━━━━━━━━━\u001b[0m \u001b[32m69.9/69.9 kB\u001b[0m \u001b[31m1.5 MB/s\u001b[0m eta \u001b[36m0:00:00\u001b[0m\n",
      "\u001b[?25hCollecting certifi==2023.7.22 (from roboflow)\n",
      "  Downloading certifi-2023.7.22-py3-none-any.whl (158 kB)\n",
      "\u001b[2K     \u001b[90m━━━━━━━━━━━━━━━━━━━━━━━━━━━━━━━━━━━━━━━━\u001b[0m \u001b[32m158.3/158.3 kB\u001b[0m \u001b[31m6.6 MB/s\u001b[0m eta \u001b[36m0:00:00\u001b[0m\n",
      "\u001b[?25hCollecting chardet==4.0.0 (from roboflow)\n",
      "  Downloading chardet-4.0.0-py2.py3-none-any.whl (178 kB)\n",
      "\u001b[2K     \u001b[90m━━━━━━━━━━━━━━━━━━━━━━━━━━━━━━━━━━━━━━━━\u001b[0m \u001b[32m178.7/178.7 kB\u001b[0m \u001b[31m20.5 MB/s\u001b[0m eta \u001b[36m0:00:00\u001b[0m\n",
      "\u001b[?25hCollecting cycler==0.10.0 (from roboflow)\n",
      "  Downloading cycler-0.10.0-py2.py3-none-any.whl (6.5 kB)\n",
      "Collecting idna==2.10 (from roboflow)\n",
      "  Downloading idna-2.10-py2.py3-none-any.whl (58 kB)\n",
      "\u001b[2K     \u001b[90m━━━━━━━━━━━━━━━━━━━━━━━━━━━━━━━━━━━━━━━━\u001b[0m \u001b[32m58.8/58.8 kB\u001b[0m \u001b[31m8.2 MB/s\u001b[0m eta \u001b[36m0:00:00\u001b[0m\n",
      "\u001b[?25hRequirement already satisfied: kiwisolver>=1.3.1 in /usr/local/lib/python3.10/dist-packages (from roboflow) (1.4.5)\n",
      "Requirement already satisfied: matplotlib in /usr/local/lib/python3.10/dist-packages (from roboflow) (3.7.1)\n",
      "Requirement already satisfied: numpy>=1.18.5 in /usr/local/lib/python3.10/dist-packages (from roboflow) (1.23.5)\n",
      "Collecting opencv-python-headless==4.8.0.74 (from roboflow)\n",
      "  Downloading opencv_python_headless-4.8.0.74-cp37-abi3-manylinux_2_17_x86_64.manylinux2014_x86_64.whl (49.1 MB)\n",
      "\u001b[2K     \u001b[90m━━━━━━━━━━━━━━━━━━━━━━━━━━━━━━━━━━━━━━━━\u001b[0m \u001b[32m49.1/49.1 MB\u001b[0m \u001b[31m15.4 MB/s\u001b[0m eta \u001b[36m0:00:00\u001b[0m\n",
      "\u001b[?25hRequirement already satisfied: Pillow>=7.1.2 in /usr/local/lib/python3.10/dist-packages (from roboflow) (9.4.0)\n",
      "Requirement already satisfied: python-dateutil in /usr/local/lib/python3.10/dist-packages (from roboflow) (2.8.2)\n",
      "Collecting python-dotenv (from roboflow)\n",
      "  Downloading python_dotenv-1.0.0-py3-none-any.whl (19 kB)\n",
      "Requirement already satisfied: requests in /usr/local/lib/python3.10/dist-packages (from roboflow) (2.31.0)\n",
      "Requirement already satisfied: six in /usr/local/lib/python3.10/dist-packages (from roboflow) (1.16.0)\n",
      "Collecting supervision (from roboflow)\n",
      "  Downloading supervision-0.17.1-py3-none-any.whl (77 kB)\n",
      "\u001b[2K     \u001b[90m━━━━━━━━━━━━━━━━━━━━━━━━━━━━━━━━━━━━━━━━\u001b[0m \u001b[32m77.5/77.5 kB\u001b[0m \u001b[31m12.2 MB/s\u001b[0m eta \u001b[36m0:00:00\u001b[0m\n",
      "\u001b[?25hRequirement already satisfied: urllib3>=1.26.6 in /usr/local/lib/python3.10/dist-packages (from roboflow) (2.0.7)\n",
      "Requirement already satisfied: tqdm>=4.41.0 in /usr/local/lib/python3.10/dist-packages (from roboflow) (4.66.1)\n",
      "Requirement already satisfied: PyYAML>=5.3.1 in /usr/local/lib/python3.10/dist-packages (from roboflow) (6.0.1)\n",
      "Collecting requests-toolbelt (from roboflow)\n",
      "  Downloading requests_toolbelt-1.0.0-py2.py3-none-any.whl (54 kB)\n",
      "\u001b[2K     \u001b[90m━━━━━━━━━━━━━━━━━━━━━━━━━━━━━━━━━━━━━━━━\u001b[0m \u001b[32m54.5/54.5 kB\u001b[0m \u001b[31m8.0 MB/s\u001b[0m eta \u001b[36m0:00:00\u001b[0m\n",
      "\u001b[?25hCollecting python-magic (from roboflow)\n",
      "  Downloading python_magic-0.4.27-py2.py3-none-any.whl (13 kB)\n",
      "Requirement already satisfied: contourpy>=1.0.1 in /usr/local/lib/python3.10/dist-packages (from matplotlib->roboflow) (1.2.0)\n",
      "Requirement already satisfied: fonttools>=4.22.0 in /usr/local/lib/python3.10/dist-packages (from matplotlib->roboflow) (4.47.0)\n",
      "Requirement already satisfied: packaging>=20.0 in /usr/local/lib/python3.10/dist-packages (from matplotlib->roboflow) (23.2)\n",
      "Requirement already satisfied: pyparsing>=2.3.1 in /usr/local/lib/python3.10/dist-packages (from matplotlib->roboflow) (3.1.1)\n",
      "Requirement already satisfied: charset-normalizer<4,>=2 in /usr/local/lib/python3.10/dist-packages (from requests->roboflow) (3.3.2)\n",
      "Requirement already satisfied: scipy>=1.9.0 in /usr/local/lib/python3.10/dist-packages (from supervision->roboflow) (1.11.4)\n",
      "Installing collected packages: python-magic, python-dotenv, opencv-python-headless, idna, cycler, chardet, certifi, supervision, requests-toolbelt, roboflow\n",
      "  Attempting uninstall: opencv-python-headless\n",
      "    Found existing installation: opencv-python-headless 4.9.0.80\n",
      "    Uninstalling opencv-python-headless-4.9.0.80:\n",
      "      Successfully uninstalled opencv-python-headless-4.9.0.80\n",
      "  Attempting uninstall: idna\n",
      "    Found existing installation: idna 3.6\n",
      "    Uninstalling idna-3.6:\n",
      "      Successfully uninstalled idna-3.6\n",
      "  Attempting uninstall: cycler\n",
      "    Found existing installation: cycler 0.12.1\n",
      "    Uninstalling cycler-0.12.1:\n",
      "      Successfully uninstalled cycler-0.12.1\n",
      "  Attempting uninstall: chardet\n",
      "    Found existing installation: chardet 5.2.0\n",
      "    Uninstalling chardet-5.2.0:\n",
      "      Successfully uninstalled chardet-5.2.0\n",
      "  Attempting uninstall: certifi\n",
      "    Found existing installation: certifi 2023.11.17\n",
      "    Uninstalling certifi-2023.11.17:\n",
      "      Successfully uninstalled certifi-2023.11.17\n",
      "\u001b[31mERROR: pip's dependency resolver does not currently take into account all the packages that are installed. This behaviour is the source of the following dependency conflicts.\n",
      "lida 0.0.10 requires fastapi, which is not installed.\n",
      "lida 0.0.10 requires kaleido, which is not installed.\n",
      "lida 0.0.10 requires python-multipart, which is not installed.\n",
      "lida 0.0.10 requires uvicorn, which is not installed.\u001b[0m\u001b[31m\n",
      "\u001b[0mSuccessfully installed certifi-2023.7.22 chardet-4.0.0 cycler-0.10.0 idna-2.10 opencv-python-headless-4.8.0.74 python-dotenv-1.0.0 python-magic-0.4.27 requests-toolbelt-1.0.0 roboflow-1.1.16 supervision-0.17.1\n"
     ]
    },
    {
     "data": {
      "application/vnd.colab-display-data+json": {
       "pip_warning": {
        "packages": [
         "certifi",
         "cycler"
        ]
       }
      }
     },
     "metadata": {},
     "output_type": "display_data"
    }
   ],
   "source": [
    "!pip install roboflow"
   ]
  },
  {
   "cell_type": "code",
   "execution_count": 3,
   "metadata": {
    "colab": {
     "base_uri": "https://localhost:8080/"
    },
    "id": "AkYeqSyxPLtN",
    "outputId": "ee1826c7-c81a-4957-b4cb-43eb0d31b6ea"
   },
   "outputs": [
    {
     "name": "stdout",
     "output_type": "stream",
     "text": [
      "loading Roboflow workspace...\n",
      "loading Roboflow project...\n",
      "[WARNING] we noticed you are downloading a `yolov8` datasets but you don't have `ultralytics` installed. Roboflow `.deploy` supports only models trained with `ultralytics==8.0.196`, to intall it `pip install ultralytics==8.0.196`.\n"
     ]
    },
    {
     "name": "stderr",
     "output_type": "stream",
     "text": [
      "Downloading Dataset Version Zip in crack-2 to yolov8:: 100%|██████████| 138824/138824 [00:08<00:00, 16300.19it/s]"
     ]
    },
    {
     "name": "stdout",
     "output_type": "stream",
     "text": [
      "\n"
     ]
    },
    {
     "name": "stderr",
     "output_type": "stream",
     "text": [
      "\n",
      "Extracting Dataset Version Zip to crack-2 in yolov8:: 100%|██████████| 8070/8070 [00:01<00:00, 6648.79it/s]\n"
     ]
    }
   ],
   "source": [
    "from roboflow import Roboflow\n",
    "rf = Roboflow(api_key=\"YOUR_API_KEY\")\n",
    "project = rf.workspace(\"university-bswxt\").project(\"crack-bphdr\")\n",
    "dataset = project.version(2).download(\"yolov8\")"
   ]
  },
  {
   "cell_type": "code",
   "execution_count": null,
   "metadata": {
    "id": "ryYHDXZ8PeJ0"
   },
   "outputs": [],
   "source": []
  },
  {
   "cell_type": "code",
   "execution_count": 4,
   "metadata": {
    "colab": {
     "base_uri": "https://localhost:8080/"
    },
    "id": "NoAV0g-WQI-l",
    "outputId": "57eacd6c-89a5-4e6f-fd18-f180676ef49f"
   },
   "outputs": [
    {
     "name": "stdout",
     "output_type": "stream",
     "text": [
      "Collecting ultralytics\n",
      "  Downloading ultralytics-8.1.1-py3-none-any.whl (699 kB)\n",
      "\u001b[?25l     \u001b[90m━━━━━━━━━━━━━━━━━━━━━━━━━━━━━━━━━━━━━━━━\u001b[0m \u001b[32m0.0/699.8 kB\u001b[0m \u001b[31m?\u001b[0m eta \u001b[36m-:--:--\u001b[0m\r",
      "\u001b[2K     \u001b[91m━━━━\u001b[0m\u001b[90m╺\u001b[0m\u001b[90m━━━━━━━━━━━━━━━━━━━━━━━━━━━━━━━━━━━\u001b[0m \u001b[32m71.7/699.8 kB\u001b[0m \u001b[31m1.9 MB/s\u001b[0m eta \u001b[36m0:00:01\u001b[0m\r",
      "\u001b[2K     \u001b[90m━━━━━━━━━━━━━━━━━━━━━━━━━━━━━━━━━━━━━━━━\u001b[0m \u001b[32m699.8/699.8 kB\u001b[0m \u001b[31m11.4 MB/s\u001b[0m eta \u001b[36m0:00:00\u001b[0m\n",
      "\u001b[?25hRequirement already satisfied: matplotlib>=3.3.0 in /usr/local/lib/python3.10/dist-packages (from ultralytics) (3.7.1)\n",
      "Requirement already satisfied: numpy>=1.22.2 in /usr/local/lib/python3.10/dist-packages (from ultralytics) (1.23.5)\n",
      "Requirement already satisfied: opencv-python>=4.6.0 in /usr/local/lib/python3.10/dist-packages (from ultralytics) (4.8.0.76)\n",
      "Requirement already satisfied: pillow>=7.1.2 in /usr/local/lib/python3.10/dist-packages (from ultralytics) (9.4.0)\n",
      "Requirement already satisfied: pyyaml>=5.3.1 in /usr/local/lib/python3.10/dist-packages (from ultralytics) (6.0.1)\n",
      "Requirement already satisfied: requests>=2.23.0 in /usr/local/lib/python3.10/dist-packages (from ultralytics) (2.31.0)\n",
      "Requirement already satisfied: scipy>=1.4.1 in /usr/local/lib/python3.10/dist-packages (from ultralytics) (1.11.4)\n",
      "Requirement already satisfied: torch>=1.8.0 in /usr/local/lib/python3.10/dist-packages (from ultralytics) (2.1.0+cu121)\n",
      "Requirement already satisfied: torchvision>=0.9.0 in /usr/local/lib/python3.10/dist-packages (from ultralytics) (0.16.0+cu121)\n",
      "Requirement already satisfied: tqdm>=4.64.0 in /usr/local/lib/python3.10/dist-packages (from ultralytics) (4.66.1)\n",
      "Requirement already satisfied: psutil in /usr/local/lib/python3.10/dist-packages (from ultralytics) (5.9.5)\n",
      "Requirement already satisfied: py-cpuinfo in /usr/local/lib/python3.10/dist-packages (from ultralytics) (9.0.0)\n",
      "Collecting thop>=0.1.1 (from ultralytics)\n",
      "  Downloading thop-0.1.1.post2209072238-py3-none-any.whl (15 kB)\n",
      "Requirement already satisfied: pandas>=1.1.4 in /usr/local/lib/python3.10/dist-packages (from ultralytics) (1.5.3)\n",
      "Requirement already satisfied: seaborn>=0.11.0 in /usr/local/lib/python3.10/dist-packages (from ultralytics) (0.12.2)\n",
      "Collecting hub-sdk>=0.0.2 (from ultralytics)\n",
      "  Downloading hub_sdk-0.0.3-py3-none-any.whl (37 kB)\n",
      "Requirement already satisfied: contourpy>=1.0.1 in /usr/local/lib/python3.10/dist-packages (from matplotlib>=3.3.0->ultralytics) (1.2.0)\n",
      "Requirement already satisfied: cycler>=0.10 in /usr/local/lib/python3.10/dist-packages (from matplotlib>=3.3.0->ultralytics) (0.10.0)\n",
      "Requirement already satisfied: fonttools>=4.22.0 in /usr/local/lib/python3.10/dist-packages (from matplotlib>=3.3.0->ultralytics) (4.47.0)\n",
      "Requirement already satisfied: kiwisolver>=1.0.1 in /usr/local/lib/python3.10/dist-packages (from matplotlib>=3.3.0->ultralytics) (1.4.5)\n",
      "Requirement already satisfied: packaging>=20.0 in /usr/local/lib/python3.10/dist-packages (from matplotlib>=3.3.0->ultralytics) (23.2)\n",
      "Requirement already satisfied: pyparsing>=2.3.1 in /usr/local/lib/python3.10/dist-packages (from matplotlib>=3.3.0->ultralytics) (3.1.1)\n",
      "Requirement already satisfied: python-dateutil>=2.7 in /usr/local/lib/python3.10/dist-packages (from matplotlib>=3.3.0->ultralytics) (2.8.2)\n",
      "Requirement already satisfied: pytz>=2020.1 in /usr/local/lib/python3.10/dist-packages (from pandas>=1.1.4->ultralytics) (2023.3.post1)\n",
      "Requirement already satisfied: charset-normalizer<4,>=2 in /usr/local/lib/python3.10/dist-packages (from requests>=2.23.0->ultralytics) (3.3.2)\n",
      "Requirement already satisfied: idna<4,>=2.5 in /usr/local/lib/python3.10/dist-packages (from requests>=2.23.0->ultralytics) (2.10)\n",
      "Requirement already satisfied: urllib3<3,>=1.21.1 in /usr/local/lib/python3.10/dist-packages (from requests>=2.23.0->ultralytics) (2.0.7)\n",
      "Requirement already satisfied: certifi>=2017.4.17 in /usr/local/lib/python3.10/dist-packages (from requests>=2.23.0->ultralytics) (2023.7.22)\n",
      "Requirement already satisfied: filelock in /usr/local/lib/python3.10/dist-packages (from torch>=1.8.0->ultralytics) (3.13.1)\n",
      "Requirement already satisfied: typing-extensions in /usr/local/lib/python3.10/dist-packages (from torch>=1.8.0->ultralytics) (4.5.0)\n",
      "Requirement already satisfied: sympy in /usr/local/lib/python3.10/dist-packages (from torch>=1.8.0->ultralytics) (1.12)\n",
      "Requirement already satisfied: networkx in /usr/local/lib/python3.10/dist-packages (from torch>=1.8.0->ultralytics) (3.2.1)\n",
      "Requirement already satisfied: jinja2 in /usr/local/lib/python3.10/dist-packages (from torch>=1.8.0->ultralytics) (3.1.2)\n",
      "Requirement already satisfied: fsspec in /usr/local/lib/python3.10/dist-packages (from torch>=1.8.0->ultralytics) (2023.6.0)\n",
      "Requirement already satisfied: triton==2.1.0 in /usr/local/lib/python3.10/dist-packages (from torch>=1.8.0->ultralytics) (2.1.0)\n",
      "Requirement already satisfied: six in /usr/local/lib/python3.10/dist-packages (from cycler>=0.10->matplotlib>=3.3.0->ultralytics) (1.16.0)\n",
      "Requirement already satisfied: MarkupSafe>=2.0 in /usr/local/lib/python3.10/dist-packages (from jinja2->torch>=1.8.0->ultralytics) (2.1.3)\n",
      "Requirement already satisfied: mpmath>=0.19 in /usr/local/lib/python3.10/dist-packages (from sympy->torch>=1.8.0->ultralytics) (1.3.0)\n",
      "Installing collected packages: hub-sdk, thop, ultralytics\n",
      "Successfully installed hub-sdk-0.0.3 thop-0.1.1.post2209072238 ultralytics-8.1.1\n"
     ]
    }
   ],
   "source": [
    "pip install ultralytics"
   ]
  },
  {
   "cell_type": "code",
   "execution_count": null,
   "metadata": {
    "id": "HFf6i5xDQJ2n"
   },
   "outputs": [],
   "source": []
  },
  {
   "cell_type": "code",
   "execution_count": 5,
   "metadata": {
    "colab": {
     "base_uri": "https://localhost:8080/"
    },
    "id": "ymjv60MwQNB7",
    "outputId": "6dbf637e-0ec8-4d59-d963-01d71d8fdddc"
   },
   "outputs": [
    {
     "name": "stdout",
     "output_type": "stream",
     "text": [
      "Downloading https://github.com/ultralytics/assets/releases/download/v8.1.0/yolov8n.pt to 'yolov8n.pt'...\n"
     ]
    },
    {
     "name": "stderr",
     "output_type": "stream",
     "text": [
      "100%|██████████| 6.23M/6.23M [00:00<00:00, 320MB/s]\n"
     ]
    }
   ],
   "source": [
    "from ultralytics import YOLO\n",
    "model = YOLO(\"yolov8n.pt\")"
   ]
  },
  {
   "cell_type": "code",
   "execution_count": null,
   "metadata": {
    "id": "4A7DJ2UJQZC0"
   },
   "outputs": [],
   "source": []
  },
  {
   "cell_type": "code",
   "execution_count": 6,
   "metadata": {
    "colab": {
     "base_uri": "https://localhost:8080/"
    },
    "id": "UDdn2gy7QQno",
    "outputId": "2e8e14ec-b1b1-48de-b864-ffcb1cd4289b"
   },
   "outputs": [
    {
     "name": "stdout",
     "output_type": "stream",
     "text": [
      "Ultralytics YOLOv8.1.1 🚀 Python-3.10.12 torch-2.1.0+cu121 CUDA:0 (Tesla T4, 15102MiB)\n",
      "\u001b[34m\u001b[1mengine/trainer: \u001b[0mtask=detect, mode=train, model=yolov8n.pt, data=/content/crack-2/data.yaml, epochs=32, time=None, patience=50, batch=32, imgsz=640, save=True, save_period=-1, cache=False, device=None, workers=8, project=None, name=train, exist_ok=False, pretrained=True, optimizer=auto, verbose=True, seed=0, deterministic=True, single_cls=False, rect=False, cos_lr=False, close_mosaic=10, resume=False, amp=True, fraction=1.0, profile=False, freeze=None, multi_scale=False, overlap_mask=True, mask_ratio=4, dropout=0.0, val=True, split=val, save_json=False, save_hybrid=False, conf=None, iou=0.7, max_det=300, half=False, dnn=False, plots=True, source=None, vid_stride=1, stream_buffer=False, visualize=False, augment=False, agnostic_nms=False, classes=None, retina_masks=False, embed=None, show=False, save_frames=False, save_txt=False, save_conf=False, save_crop=False, show_labels=True, show_conf=True, show_boxes=True, line_width=None, format=torchscript, keras=False, optimize=False, int8=False, dynamic=False, simplify=False, opset=None, workspace=4, nms=False, lr0=0.01, lrf=0.01, momentum=0.937, weight_decay=0.0005, warmup_epochs=3.0, warmup_momentum=0.8, warmup_bias_lr=0.1, box=7.5, cls=0.5, dfl=1.5, pose=12.0, kobj=1.0, label_smoothing=0.0, nbs=64, hsv_h=0.015, hsv_s=0.7, hsv_v=0.4, degrees=0.0, translate=0.1, scale=0.5, shear=0.0, perspective=0.0, flipud=0.0, fliplr=0.5, mosaic=1.0, mixup=0.0, copy_paste=0.0, auto_augment=randaugment, erasing=0.4, crop_fraction=1.0, cfg=None, tracker=botsort.yaml, save_dir=runs/detect/train\n",
      "Downloading https://ultralytics.com/assets/Arial.ttf to '/root/.config/Ultralytics/Arial.ttf'...\n"
     ]
    },
    {
     "name": "stderr",
     "output_type": "stream",
     "text": [
      "100%|██████████| 755k/755k [00:00<00:00, 128MB/s]\n"
     ]
    },
    {
     "name": "stdout",
     "output_type": "stream",
     "text": [
      "Overriding model.yaml nc=80 with nc=1\n",
      "\n",
      "                   from  n    params  module                                       arguments                     \n",
      "  0                  -1  1       464  ultralytics.nn.modules.conv.Conv             [3, 16, 3, 2]                 \n",
      "  1                  -1  1      4672  ultralytics.nn.modules.conv.Conv             [16, 32, 3, 2]                \n",
      "  2                  -1  1      7360  ultralytics.nn.modules.block.C2f             [32, 32, 1, True]             \n",
      "  3                  -1  1     18560  ultralytics.nn.modules.conv.Conv             [32, 64, 3, 2]                \n",
      "  4                  -1  2     49664  ultralytics.nn.modules.block.C2f             [64, 64, 2, True]             \n",
      "  5                  -1  1     73984  ultralytics.nn.modules.conv.Conv             [64, 128, 3, 2]               \n",
      "  6                  -1  2    197632  ultralytics.nn.modules.block.C2f             [128, 128, 2, True]           \n",
      "  7                  -1  1    295424  ultralytics.nn.modules.conv.Conv             [128, 256, 3, 2]              \n",
      "  8                  -1  1    460288  ultralytics.nn.modules.block.C2f             [256, 256, 1, True]           \n",
      "  9                  -1  1    164608  ultralytics.nn.modules.block.SPPF            [256, 256, 5]                 \n",
      " 10                  -1  1         0  torch.nn.modules.upsampling.Upsample         [None, 2, 'nearest']          \n",
      " 11             [-1, 6]  1         0  ultralytics.nn.modules.conv.Concat           [1]                           \n",
      " 12                  -1  1    148224  ultralytics.nn.modules.block.C2f             [384, 128, 1]                 \n",
      " 13                  -1  1         0  torch.nn.modules.upsampling.Upsample         [None, 2, 'nearest']          \n",
      " 14             [-1, 4]  1         0  ultralytics.nn.modules.conv.Concat           [1]                           \n",
      " 15                  -1  1     37248  ultralytics.nn.modules.block.C2f             [192, 64, 1]                  \n",
      " 16                  -1  1     36992  ultralytics.nn.modules.conv.Conv             [64, 64, 3, 2]                \n",
      " 17            [-1, 12]  1         0  ultralytics.nn.modules.conv.Concat           [1]                           \n",
      " 18                  -1  1    123648  ultralytics.nn.modules.block.C2f             [192, 128, 1]                 \n",
      " 19                  -1  1    147712  ultralytics.nn.modules.conv.Conv             [128, 128, 3, 2]              \n",
      " 20             [-1, 9]  1         0  ultralytics.nn.modules.conv.Concat           [1]                           \n",
      " 21                  -1  1    493056  ultralytics.nn.modules.block.C2f             [384, 256, 1]                 \n",
      " 22        [15, 18, 21]  1    751507  ultralytics.nn.modules.head.Detect           [1, [64, 128, 256]]           \n",
      "Model summary: 225 layers, 3011043 parameters, 3011027 gradients, 8.2 GFLOPs\n",
      "\n",
      "Transferred 319/355 items from pretrained weights\n",
      "\u001b[34m\u001b[1mTensorBoard: \u001b[0mStart with 'tensorboard --logdir runs/detect/train', view at http://localhost:6006/\n",
      "Freezing layer 'model.22.dfl.conv.weight'\n",
      "\u001b[34m\u001b[1mAMP: \u001b[0mrunning Automatic Mixed Precision (AMP) checks with YOLOv8n...\n",
      "WARNING ⚠️ NMS time limit 0.550s exceeded\n",
      "\u001b[34m\u001b[1mAMP: \u001b[0mchecks passed ✅\n"
     ]
    },
    {
     "name": "stderr",
     "output_type": "stream",
     "text": [
      "\u001b[34m\u001b[1mtrain: \u001b[0mScanning /content/crack-2/train/labels... 3717 images, 0 backgrounds, 0 corrupt: 100%|██████████| 3717/3717 [00:02<00:00, 1374.39it/s]\n"
     ]
    },
    {
     "name": "stdout",
     "output_type": "stream",
     "text": [
      "\u001b[34m\u001b[1mtrain: \u001b[0mNew cache created: /content/crack-2/train/labels.cache\n",
      "\u001b[34m\u001b[1malbumentations: \u001b[0mBlur(p=0.01, blur_limit=(3, 7)), MedianBlur(p=0.01, blur_limit=(3, 7)), ToGray(p=0.01), CLAHE(p=0.01, clip_limit=(1, 4.0), tile_grid_size=(8, 8))\n"
     ]
    },
    {
     "name": "stderr",
     "output_type": "stream",
     "text": [
      "\u001b[34m\u001b[1mval: \u001b[0mScanning /content/crack-2/valid/labels... 200 images, 1 backgrounds, 0 corrupt: 100%|██████████| 200/200 [00:00<00:00, 479.05it/s]"
     ]
    },
    {
     "name": "stdout",
     "output_type": "stream",
     "text": [
      "\u001b[34m\u001b[1mval: \u001b[0mNew cache created: /content/crack-2/valid/labels.cache\n"
     ]
    },
    {
     "name": "stderr",
     "output_type": "stream",
     "text": [
      "\n"
     ]
    },
    {
     "name": "stdout",
     "output_type": "stream",
     "text": [
      "Plotting labels to runs/detect/train/labels.jpg... \n",
      "\u001b[34m\u001b[1moptimizer:\u001b[0m 'optimizer=auto' found, ignoring 'lr0=0.01' and 'momentum=0.937' and determining best 'optimizer', 'lr0' and 'momentum' automatically... \n",
      "\u001b[34m\u001b[1moptimizer:\u001b[0m AdamW(lr=0.002, momentum=0.9) with parameter groups 57 weight(decay=0.0), 64 weight(decay=0.0005), 63 bias(decay=0.0)\n",
      "32 epochs...\n",
      "\n",
      "      Epoch    GPU_mem   box_loss   cls_loss   dfl_loss  Instances       Size\n"
     ]
    },
    {
     "name": "stderr",
     "output_type": "stream",
     "text": [
      "       1/32      4.78G      1.316      1.984      1.301          8        640: 100%|██████████| 117/117 [01:22<00:00,  1.43it/s]\n",
      "                 Class     Images  Instances      Box(P          R      mAP50  mAP50-95): 100%|██████████| 4/4 [00:03<00:00,  1.11it/s]"
     ]
    },
    {
     "name": "stdout",
     "output_type": "stream",
     "text": [
      "                   all        200        249       0.29      0.313      0.181     0.0643\n"
     ]
    },
    {
     "name": "stderr",
     "output_type": "stream",
     "text": [
      "\n"
     ]
    },
    {
     "name": "stdout",
     "output_type": "stream",
     "text": [
      "\n",
      "      Epoch    GPU_mem   box_loss   cls_loss   dfl_loss  Instances       Size\n"
     ]
    },
    {
     "name": "stderr",
     "output_type": "stream",
     "text": [
      "       2/32      4.39G      1.327      1.519      1.283         21        640: 100%|██████████| 117/117 [01:20<00:00,  1.46it/s]\n",
      "                 Class     Images  Instances      Box(P          R      mAP50  mAP50-95): 100%|██████████| 4/4 [00:02<00:00,  1.34it/s]\n"
     ]
    },
    {
     "name": "stdout",
     "output_type": "stream",
     "text": [
      "                   all        200        249      0.391      0.285      0.277      0.106\n",
      "\n",
      "      Epoch    GPU_mem   box_loss   cls_loss   dfl_loss  Instances       Size\n"
     ]
    },
    {
     "name": "stderr",
     "output_type": "stream",
     "text": [
      "       3/32      4.37G      1.306      1.379      1.277         11        640: 100%|██████████| 117/117 [01:16<00:00,  1.52it/s]\n",
      "                 Class     Images  Instances      Box(P          R      mAP50  mAP50-95): 100%|██████████| 4/4 [00:02<00:00,  1.50it/s]"
     ]
    },
    {
     "name": "stdout",
     "output_type": "stream",
     "text": [
      "                   all        200        249      0.393      0.534      0.362      0.128\n"
     ]
    },
    {
     "name": "stderr",
     "output_type": "stream",
     "text": [
      "\n"
     ]
    },
    {
     "name": "stdout",
     "output_type": "stream",
     "text": [
      "\n",
      "      Epoch    GPU_mem   box_loss   cls_loss   dfl_loss  Instances       Size\n"
     ]
    },
    {
     "name": "stderr",
     "output_type": "stream",
     "text": [
      "       4/32      4.47G      1.293      1.312      1.269         10        640: 100%|██████████| 117/117 [01:18<00:00,  1.50it/s]\n",
      "                 Class     Images  Instances      Box(P          R      mAP50  mAP50-95): 100%|██████████| 4/4 [00:02<00:00,  1.43it/s]"
     ]
    },
    {
     "name": "stdout",
     "output_type": "stream",
     "text": [
      "                   all        200        249       0.44      0.498       0.42      0.179\n"
     ]
    },
    {
     "name": "stderr",
     "output_type": "stream",
     "text": [
      "\n"
     ]
    },
    {
     "name": "stdout",
     "output_type": "stream",
     "text": [
      "\n",
      "      Epoch    GPU_mem   box_loss   cls_loss   dfl_loss  Instances       Size\n"
     ]
    },
    {
     "name": "stderr",
     "output_type": "stream",
     "text": [
      "       5/32      4.41G      1.233      1.241      1.241         17        640: 100%|██████████| 117/117 [01:16<00:00,  1.52it/s]\n",
      "                 Class     Images  Instances      Box(P          R      mAP50  mAP50-95): 100%|██████████| 4/4 [00:04<00:00,  1.02s/it]"
     ]
    },
    {
     "name": "stdout",
     "output_type": "stream",
     "text": [
      "                   all        200        249      0.468      0.606      0.473      0.236\n"
     ]
    },
    {
     "name": "stderr",
     "output_type": "stream",
     "text": [
      "\n"
     ]
    },
    {
     "name": "stdout",
     "output_type": "stream",
     "text": [
      "\n",
      "      Epoch    GPU_mem   box_loss   cls_loss   dfl_loss  Instances       Size\n"
     ]
    },
    {
     "name": "stderr",
     "output_type": "stream",
     "text": [
      "       6/32      4.39G      1.188      1.173      1.218         15        640: 100%|██████████| 117/117 [01:16<00:00,  1.53it/s]\n",
      "                 Class     Images  Instances      Box(P          R      mAP50  mAP50-95): 100%|██████████| 4/4 [00:02<00:00,  1.44it/s]\n"
     ]
    },
    {
     "name": "stdout",
     "output_type": "stream",
     "text": [
      "                   all        200        249       0.68      0.574       0.56      0.299\n",
      "\n",
      "      Epoch    GPU_mem   box_loss   cls_loss   dfl_loss  Instances       Size\n"
     ]
    },
    {
     "name": "stderr",
     "output_type": "stream",
     "text": [
      "       7/32      4.41G      1.154      1.131      1.205         12        640: 100%|██████████| 117/117 [01:18<00:00,  1.50it/s]\n",
      "                 Class     Images  Instances      Box(P          R      mAP50  mAP50-95): 100%|██████████| 4/4 [00:03<00:00,  1.24it/s]"
     ]
    },
    {
     "name": "stdout",
     "output_type": "stream",
     "text": [
      "                   all        200        249      0.622      0.606      0.602      0.329\n"
     ]
    },
    {
     "name": "stderr",
     "output_type": "stream",
     "text": [
      "\n"
     ]
    },
    {
     "name": "stdout",
     "output_type": "stream",
     "text": [
      "\n",
      "      Epoch    GPU_mem   box_loss   cls_loss   dfl_loss  Instances       Size\n"
     ]
    },
    {
     "name": "stderr",
     "output_type": "stream",
     "text": [
      "       8/32      4.45G       1.11      1.093      1.183         10        640: 100%|██████████| 117/117 [01:16<00:00,  1.53it/s]\n",
      "                 Class     Images  Instances      Box(P          R      mAP50  mAP50-95): 100%|██████████| 4/4 [00:02<00:00,  1.56it/s]\n"
     ]
    },
    {
     "name": "stdout",
     "output_type": "stream",
     "text": [
      "                   all        200        249        0.7      0.675      0.644      0.367\n",
      "\n",
      "      Epoch    GPU_mem   box_loss   cls_loss   dfl_loss  Instances       Size\n"
     ]
    },
    {
     "name": "stderr",
     "output_type": "stream",
     "text": [
      "       9/32      4.37G      1.092      1.056      1.176         13        640: 100%|██████████| 117/117 [01:17<00:00,  1.51it/s]\n",
      "                 Class     Images  Instances      Box(P          R      mAP50  mAP50-95): 100%|██████████| 4/4 [00:02<00:00,  1.37it/s]\n"
     ]
    },
    {
     "name": "stdout",
     "output_type": "stream",
     "text": [
      "                   all        200        249      0.695      0.647      0.617      0.355\n",
      "\n",
      "      Epoch    GPU_mem   box_loss   cls_loss   dfl_loss  Instances       Size\n"
     ]
    },
    {
     "name": "stderr",
     "output_type": "stream",
     "text": [
      "      10/32      4.39G      1.071      1.034      1.167         13        640: 100%|██████████| 117/117 [01:16<00:00,  1.53it/s]\n",
      "                 Class     Images  Instances      Box(P          R      mAP50  mAP50-95): 100%|██████████| 4/4 [00:03<00:00,  1.10it/s]"
     ]
    },
    {
     "name": "stdout",
     "output_type": "stream",
     "text": [
      "                   all        200        249      0.811      0.651      0.725      0.463\n"
     ]
    },
    {
     "name": "stderr",
     "output_type": "stream",
     "text": [
      "\n"
     ]
    },
    {
     "name": "stdout",
     "output_type": "stream",
     "text": [
      "\n",
      "      Epoch    GPU_mem   box_loss   cls_loss   dfl_loss  Instances       Size\n"
     ]
    },
    {
     "name": "stderr",
     "output_type": "stream",
     "text": [
      "      11/32      4.41G      1.024     0.9815      1.139         11        640: 100%|██████████| 117/117 [01:16<00:00,  1.53it/s]\n",
      "                 Class     Images  Instances      Box(P          R      mAP50  mAP50-95): 100%|██████████| 4/4 [00:02<00:00,  1.56it/s]"
     ]
    },
    {
     "name": "stdout",
     "output_type": "stream",
     "text": [
      "                   all        200        249      0.759      0.685      0.745      0.466\n"
     ]
    },
    {
     "name": "stderr",
     "output_type": "stream",
     "text": [
      "\n"
     ]
    },
    {
     "name": "stdout",
     "output_type": "stream",
     "text": [
      "\n",
      "      Epoch    GPU_mem   box_loss   cls_loss   dfl_loss  Instances       Size\n"
     ]
    },
    {
     "name": "stderr",
     "output_type": "stream",
     "text": [
      "      12/32      4.45G       1.02      0.973      1.137         11        640: 100%|██████████| 117/117 [01:15<00:00,  1.55it/s]\n",
      "                 Class     Images  Instances      Box(P          R      mAP50  mAP50-95): 100%|██████████| 4/4 [00:04<00:00,  1.04s/it]"
     ]
    },
    {
     "name": "stdout",
     "output_type": "stream",
     "text": [
      "                   all        200        249      0.708      0.715      0.669      0.414\n"
     ]
    },
    {
     "name": "stderr",
     "output_type": "stream",
     "text": [
      "\n"
     ]
    },
    {
     "name": "stdout",
     "output_type": "stream",
     "text": [
      "\n",
      "      Epoch    GPU_mem   box_loss   cls_loss   dfl_loss  Instances       Size\n"
     ]
    },
    {
     "name": "stderr",
     "output_type": "stream",
     "text": [
      "      13/32      4.38G      1.003     0.9582      1.135         18        640: 100%|██████████| 117/117 [01:15<00:00,  1.55it/s]\n",
      "                 Class     Images  Instances      Box(P          R      mAP50  mAP50-95): 100%|██████████| 4/4 [00:02<00:00,  1.46it/s]"
     ]
    },
    {
     "name": "stdout",
     "output_type": "stream",
     "text": [
      "                   all        200        249      0.709      0.719      0.723      0.474\n"
     ]
    },
    {
     "name": "stderr",
     "output_type": "stream",
     "text": [
      "\n"
     ]
    },
    {
     "name": "stdout",
     "output_type": "stream",
     "text": [
      "\n",
      "      Epoch    GPU_mem   box_loss   cls_loss   dfl_loss  Instances       Size\n"
     ]
    },
    {
     "name": "stderr",
     "output_type": "stream",
     "text": [
      "      14/32      4.39G      1.004     0.9495      1.129         14        640: 100%|██████████| 117/117 [01:16<00:00,  1.53it/s]\n",
      "                 Class     Images  Instances      Box(P          R      mAP50  mAP50-95): 100%|██████████| 4/4 [00:03<00:00,  1.05it/s]"
     ]
    },
    {
     "name": "stdout",
     "output_type": "stream",
     "text": [
      "                   all        200        249      0.726      0.671      0.658      0.413\n"
     ]
    },
    {
     "name": "stderr",
     "output_type": "stream",
     "text": [
      "\n"
     ]
    },
    {
     "name": "stdout",
     "output_type": "stream",
     "text": [
      "\n",
      "      Epoch    GPU_mem   box_loss   cls_loss   dfl_loss  Instances       Size\n"
     ]
    },
    {
     "name": "stderr",
     "output_type": "stream",
     "text": [
      "      15/32      4.45G     0.9791     0.9176      1.122         10        640: 100%|██████████| 117/117 [01:17<00:00,  1.52it/s]\n",
      "                 Class     Images  Instances      Box(P          R      mAP50  mAP50-95): 100%|██████████| 4/4 [00:02<00:00,  1.65it/s]\n"
     ]
    },
    {
     "name": "stdout",
     "output_type": "stream",
     "text": [
      "                   all        200        249      0.689      0.667      0.657      0.408\n",
      "\n",
      "      Epoch    GPU_mem   box_loss   cls_loss   dfl_loss  Instances       Size\n"
     ]
    },
    {
     "name": "stderr",
     "output_type": "stream",
     "text": [
      "      16/32      4.42G     0.9629     0.8979      1.112         16        640: 100%|██████████| 117/117 [01:16<00:00,  1.54it/s]\n",
      "                 Class     Images  Instances      Box(P          R      mAP50  mAP50-95): 100%|██████████| 4/4 [00:03<00:00,  1.23it/s]"
     ]
    },
    {
     "name": "stdout",
     "output_type": "stream",
     "text": [
      "                   all        200        249      0.779      0.651      0.742      0.483\n"
     ]
    },
    {
     "name": "stderr",
     "output_type": "stream",
     "text": [
      "\n"
     ]
    },
    {
     "name": "stdout",
     "output_type": "stream",
     "text": [
      "\n",
      "      Epoch    GPU_mem   box_loss   cls_loss   dfl_loss  Instances       Size\n"
     ]
    },
    {
     "name": "stderr",
     "output_type": "stream",
     "text": [
      "      17/32      4.41G     0.9491     0.8908      1.107         12        640: 100%|██████████| 117/117 [01:15<00:00,  1.54it/s]\n",
      "                 Class     Images  Instances      Box(P          R      mAP50  mAP50-95): 100%|██████████| 4/4 [00:02<00:00,  1.47it/s]"
     ]
    },
    {
     "name": "stdout",
     "output_type": "stream",
     "text": [
      "                   all        200        249      0.725      0.707      0.733      0.481\n"
     ]
    },
    {
     "name": "stderr",
     "output_type": "stream",
     "text": [
      "\n"
     ]
    },
    {
     "name": "stdout",
     "output_type": "stream",
     "text": [
      "\n",
      "      Epoch    GPU_mem   box_loss   cls_loss   dfl_loss  Instances       Size\n"
     ]
    },
    {
     "name": "stderr",
     "output_type": "stream",
     "text": [
      "      18/32      4.38G     0.9278     0.8712      1.098         20        640: 100%|██████████| 117/117 [01:17<00:00,  1.51it/s]\n",
      "                 Class     Images  Instances      Box(P          R      mAP50  mAP50-95): 100%|██████████| 4/4 [00:02<00:00,  1.40it/s]"
     ]
    },
    {
     "name": "stdout",
     "output_type": "stream",
     "text": [
      "                   all        200        249      0.788      0.723      0.743      0.496\n"
     ]
    },
    {
     "name": "stderr",
     "output_type": "stream",
     "text": [
      "\n"
     ]
    },
    {
     "name": "stdout",
     "output_type": "stream",
     "text": [
      "\n",
      "      Epoch    GPU_mem   box_loss   cls_loss   dfl_loss  Instances       Size\n"
     ]
    },
    {
     "name": "stderr",
     "output_type": "stream",
     "text": [
      "      19/32      4.38G     0.9284     0.8671      1.096         10        640: 100%|██████████| 117/117 [01:16<00:00,  1.54it/s]\n",
      "                 Class     Images  Instances      Box(P          R      mAP50  mAP50-95): 100%|██████████| 4/4 [00:02<00:00,  1.43it/s]"
     ]
    },
    {
     "name": "stdout",
     "output_type": "stream",
     "text": [
      "                   all        200        249      0.806      0.731      0.758      0.527\n"
     ]
    },
    {
     "name": "stderr",
     "output_type": "stream",
     "text": [
      "\n"
     ]
    },
    {
     "name": "stdout",
     "output_type": "stream",
     "text": [
      "\n",
      "      Epoch    GPU_mem   box_loss   cls_loss   dfl_loss  Instances       Size\n"
     ]
    },
    {
     "name": "stderr",
     "output_type": "stream",
     "text": [
      "      20/32      4.38G     0.9125     0.8438      1.088         19        640: 100%|██████████| 117/117 [01:17<00:00,  1.52it/s]\n",
      "                 Class     Images  Instances      Box(P          R      mAP50  mAP50-95): 100%|██████████| 4/4 [00:02<00:00,  1.42it/s]\n"
     ]
    },
    {
     "name": "stdout",
     "output_type": "stream",
     "text": [
      "                   all        200        249      0.757      0.727      0.754      0.535\n",
      "\n",
      "      Epoch    GPU_mem   box_loss   cls_loss   dfl_loss  Instances       Size\n"
     ]
    },
    {
     "name": "stderr",
     "output_type": "stream",
     "text": [
      "      21/32      4.45G     0.9039     0.8211      1.092         10        640: 100%|██████████| 117/117 [01:15<00:00,  1.54it/s]\n",
      "                 Class     Images  Instances      Box(P          R      mAP50  mAP50-95): 100%|██████████| 4/4 [00:02<00:00,  1.51it/s]"
     ]
    },
    {
     "name": "stdout",
     "output_type": "stream",
     "text": [
      "                   all        200        249      0.731      0.719      0.746      0.526\n"
     ]
    },
    {
     "name": "stderr",
     "output_type": "stream",
     "text": [
      "\n"
     ]
    },
    {
     "name": "stdout",
     "output_type": "stream",
     "text": [
      "\n",
      "      Epoch    GPU_mem   box_loss   cls_loss   dfl_loss  Instances       Size\n"
     ]
    },
    {
     "name": "stderr",
     "output_type": "stream",
     "text": [
      "      22/32      4.42G     0.8928     0.8226      1.084         15        640: 100%|██████████| 117/117 [01:17<00:00,  1.51it/s]\n",
      "                 Class     Images  Instances      Box(P          R      mAP50  mAP50-95): 100%|██████████| 4/4 [00:02<00:00,  1.52it/s]"
     ]
    },
    {
     "name": "stdout",
     "output_type": "stream",
     "text": [
      "                   all        200        249      0.746      0.703      0.751       0.54\n"
     ]
    },
    {
     "name": "stderr",
     "output_type": "stream",
     "text": [
      "\n"
     ]
    },
    {
     "name": "stdout",
     "output_type": "stream",
     "text": [
      "Closing dataloader mosaic\n",
      "\u001b[34m\u001b[1malbumentations: \u001b[0mBlur(p=0.01, blur_limit=(3, 7)), MedianBlur(p=0.01, blur_limit=(3, 7)), ToGray(p=0.01), CLAHE(p=0.01, clip_limit=(1, 4.0), tile_grid_size=(8, 8))\n",
      "\n",
      "      Epoch    GPU_mem   box_loss   cls_loss   dfl_loss  Instances       Size\n"
     ]
    },
    {
     "name": "stderr",
     "output_type": "stream",
     "text": [
      "      23/32      4.74G     0.8794     0.9355      1.187          8        640: 100%|██████████| 117/117 [01:11<00:00,  1.64it/s]\n",
      "                 Class     Images  Instances      Box(P          R      mAP50  mAP50-95): 100%|██████████| 4/4 [00:02<00:00,  1.56it/s]"
     ]
    },
    {
     "name": "stdout",
     "output_type": "stream",
     "text": [
      "                   all        200        249      0.769      0.775      0.773      0.558\n"
     ]
    },
    {
     "name": "stderr",
     "output_type": "stream",
     "text": [
      "\n"
     ]
    },
    {
     "name": "stdout",
     "output_type": "stream",
     "text": [
      "\n",
      "      Epoch    GPU_mem   box_loss   cls_loss   dfl_loss  Instances       Size\n"
     ]
    },
    {
     "name": "stderr",
     "output_type": "stream",
     "text": [
      "      24/32      4.39G     0.8486     0.8644      1.172         10        640: 100%|██████████| 117/117 [01:08<00:00,  1.71it/s]\n",
      "                 Class     Images  Instances      Box(P          R      mAP50  mAP50-95): 100%|██████████| 4/4 [00:02<00:00,  1.50it/s]"
     ]
    },
    {
     "name": "stdout",
     "output_type": "stream",
     "text": [
      "                   all        200        249      0.818      0.723      0.789      0.571\n"
     ]
    },
    {
     "name": "stderr",
     "output_type": "stream",
     "text": [
      "\n"
     ]
    },
    {
     "name": "stdout",
     "output_type": "stream",
     "text": [
      "\n",
      "      Epoch    GPU_mem   box_loss   cls_loss   dfl_loss  Instances       Size\n"
     ]
    },
    {
     "name": "stderr",
     "output_type": "stream",
     "text": [
      "      25/32      4.37G     0.8235      0.845      1.148          6        640: 100%|██████████| 117/117 [01:08<00:00,  1.71it/s]\n",
      "                 Class     Images  Instances      Box(P          R      mAP50  mAP50-95): 100%|██████████| 4/4 [00:02<00:00,  1.50it/s]"
     ]
    },
    {
     "name": "stdout",
     "output_type": "stream",
     "text": [
      "                   all        200        249       0.77      0.747      0.772      0.558\n"
     ]
    },
    {
     "name": "stderr",
     "output_type": "stream",
     "text": [
      "\n"
     ]
    },
    {
     "name": "stdout",
     "output_type": "stream",
     "text": [
      "\n",
      "      Epoch    GPU_mem   box_loss   cls_loss   dfl_loss  Instances       Size\n"
     ]
    },
    {
     "name": "stderr",
     "output_type": "stream",
     "text": [
      "      26/32      4.46G      0.815     0.8187      1.149          7        640: 100%|██████████| 117/117 [01:08<00:00,  1.71it/s]\n",
      "                 Class     Images  Instances      Box(P          R      mAP50  mAP50-95): 100%|██████████| 4/4 [00:02<00:00,  1.54it/s]"
     ]
    },
    {
     "name": "stdout",
     "output_type": "stream",
     "text": [
      "                   all        200        249      0.791      0.686       0.77      0.556\n"
     ]
    },
    {
     "name": "stderr",
     "output_type": "stream",
     "text": [
      "\n"
     ]
    },
    {
     "name": "stdout",
     "output_type": "stream",
     "text": [
      "\n",
      "      Epoch    GPU_mem   box_loss   cls_loss   dfl_loss  Instances       Size\n"
     ]
    },
    {
     "name": "stderr",
     "output_type": "stream",
     "text": [
      "      27/32      4.37G     0.7831     0.7973      1.133          5        640: 100%|██████████| 117/117 [01:07<00:00,  1.74it/s]\n",
      "                 Class     Images  Instances      Box(P          R      mAP50  mAP50-95): 100%|██████████| 4/4 [00:02<00:00,  1.46it/s]"
     ]
    },
    {
     "name": "stdout",
     "output_type": "stream",
     "text": [
      "                   all        200        249      0.837      0.743      0.809      0.613\n"
     ]
    },
    {
     "name": "stderr",
     "output_type": "stream",
     "text": [
      "\n"
     ]
    },
    {
     "name": "stdout",
     "output_type": "stream",
     "text": [
      "\n",
      "      Epoch    GPU_mem   box_loss   cls_loss   dfl_loss  Instances       Size\n"
     ]
    },
    {
     "name": "stderr",
     "output_type": "stream",
     "text": [
      "      28/32      4.38G     0.7669       0.77      1.121          6        640: 100%|██████████| 117/117 [01:06<00:00,  1.75it/s]\n",
      "                 Class     Images  Instances      Box(P          R      mAP50  mAP50-95): 100%|██████████| 4/4 [00:03<00:00,  1.15it/s]"
     ]
    },
    {
     "name": "stdout",
     "output_type": "stream",
     "text": [
      "                   all        200        249      0.818      0.755      0.808      0.601\n"
     ]
    },
    {
     "name": "stderr",
     "output_type": "stream",
     "text": [
      "\n"
     ]
    },
    {
     "name": "stdout",
     "output_type": "stream",
     "text": [
      "\n",
      "      Epoch    GPU_mem   box_loss   cls_loss   dfl_loss  Instances       Size\n"
     ]
    },
    {
     "name": "stderr",
     "output_type": "stream",
     "text": [
      "      29/32      4.37G     0.7418     0.7354      1.108          6        640: 100%|██████████| 117/117 [01:05<00:00,  1.78it/s]\n",
      "                 Class     Images  Instances      Box(P          R      mAP50  mAP50-95): 100%|██████████| 4/4 [00:03<00:00,  1.13it/s]"
     ]
    },
    {
     "name": "stdout",
     "output_type": "stream",
     "text": [
      "                   all        200        249      0.829      0.739      0.799      0.608\n"
     ]
    },
    {
     "name": "stderr",
     "output_type": "stream",
     "text": [
      "\n"
     ]
    },
    {
     "name": "stdout",
     "output_type": "stream",
     "text": [
      "\n",
      "      Epoch    GPU_mem   box_loss   cls_loss   dfl_loss  Instances       Size\n"
     ]
    },
    {
     "name": "stderr",
     "output_type": "stream",
     "text": [
      "      30/32      4.48G     0.7358     0.7298      1.109          8        640: 100%|██████████| 117/117 [01:06<00:00,  1.75it/s]\n",
      "                 Class     Images  Instances      Box(P          R      mAP50  mAP50-95): 100%|██████████| 4/4 [00:03<00:00,  1.25it/s]"
     ]
    },
    {
     "name": "stdout",
     "output_type": "stream",
     "text": [
      "                   all        200        249      0.857      0.727      0.803      0.607\n"
     ]
    },
    {
     "name": "stderr",
     "output_type": "stream",
     "text": [
      "\n"
     ]
    },
    {
     "name": "stdout",
     "output_type": "stream",
     "text": [
      "\n",
      "      Epoch    GPU_mem   box_loss   cls_loss   dfl_loss  Instances       Size\n"
     ]
    },
    {
     "name": "stderr",
     "output_type": "stream",
     "text": [
      "      31/32      4.41G     0.7054     0.6938      1.088          8        640: 100%|██████████| 117/117 [01:07<00:00,  1.74it/s]\n",
      "                 Class     Images  Instances      Box(P          R      mAP50  mAP50-95): 100%|██████████| 4/4 [00:02<00:00,  1.80it/s]"
     ]
    },
    {
     "name": "stdout",
     "output_type": "stream",
     "text": [
      "                   all        200        249      0.823      0.764      0.806       0.62\n"
     ]
    },
    {
     "name": "stderr",
     "output_type": "stream",
     "text": [
      "\n"
     ]
    },
    {
     "name": "stdout",
     "output_type": "stream",
     "text": [
      "\n",
      "      Epoch    GPU_mem   box_loss   cls_loss   dfl_loss  Instances       Size\n"
     ]
    },
    {
     "name": "stderr",
     "output_type": "stream",
     "text": [
      "      32/32      4.39G     0.6958     0.6868      1.082          8        640: 100%|██████████| 117/117 [01:08<00:00,  1.72it/s]\n",
      "                 Class     Images  Instances      Box(P          R      mAP50  mAP50-95): 100%|██████████| 4/4 [00:02<00:00,  1.66it/s]\n"
     ]
    },
    {
     "name": "stdout",
     "output_type": "stream",
     "text": [
      "                   all        200        249      0.827      0.751      0.811      0.621\n",
      "\n",
      "32 epochs completed in 0.696 hours.\n",
      "Optimizer stripped from runs/detect/train/weights/last.pt, 6.2MB\n",
      "Optimizer stripped from runs/detect/train/weights/best.pt, 6.2MB\n",
      "\n",
      "Validating runs/detect/train/weights/best.pt...\n",
      "Ultralytics YOLOv8.1.1 🚀 Python-3.10.12 torch-2.1.0+cu121 CUDA:0 (Tesla T4, 15102MiB)\n",
      "Model summary (fused): 168 layers, 3005843 parameters, 0 gradients, 8.1 GFLOPs\n"
     ]
    },
    {
     "name": "stderr",
     "output_type": "stream",
     "text": [
      "                 Class     Images  Instances      Box(P          R      mAP50  mAP50-95): 100%|██████████| 4/4 [00:05<00:00,  1.35s/it]\n"
     ]
    },
    {
     "name": "stdout",
     "output_type": "stream",
     "text": [
      "                   all        200        249      0.827      0.751      0.811       0.62\n",
      "Speed: 0.2ms preprocess, 3.2ms inference, 0.0ms loss, 5.6ms postprocess per image\n",
      "Results saved to \u001b[1mruns/detect/train\u001b[0m\n"
     ]
    },
    {
     "data": {
      "text/plain": [
       "ultralytics.utils.metrics.DetMetrics object with attributes:\n",
       "\n",
       "ap_class_index: array([0])\n",
       "box: ultralytics.utils.metrics.Metric object\n",
       "confusion_matrix: <ultralytics.utils.metrics.ConfusionMatrix object at 0x7e0bf5c47760>\n",
       "curves: ['Precision-Recall(B)', 'F1-Confidence(B)', 'Precision-Confidence(B)', 'Recall-Confidence(B)']\n",
       "curves_results: [[array([          0,    0.001001,    0.002002,    0.003003,    0.004004,    0.005005,    0.006006,    0.007007,    0.008008,    0.009009,     0.01001,    0.011011,    0.012012,    0.013013,    0.014014,    0.015015,    0.016016,    0.017017,    0.018018,    0.019019,     0.02002,    0.021021,    0.022022,    0.023023,\n",
       "          0.024024,    0.025025,    0.026026,    0.027027,    0.028028,    0.029029,     0.03003,    0.031031,    0.032032,    0.033033,    0.034034,    0.035035,    0.036036,    0.037037,    0.038038,    0.039039,     0.04004,    0.041041,    0.042042,    0.043043,    0.044044,    0.045045,    0.046046,    0.047047,\n",
       "          0.048048,    0.049049,     0.05005,    0.051051,    0.052052,    0.053053,    0.054054,    0.055055,    0.056056,    0.057057,    0.058058,    0.059059,     0.06006,    0.061061,    0.062062,    0.063063,    0.064064,    0.065065,    0.066066,    0.067067,    0.068068,    0.069069,     0.07007,    0.071071,\n",
       "          0.072072,    0.073073,    0.074074,    0.075075,    0.076076,    0.077077,    0.078078,    0.079079,     0.08008,    0.081081,    0.082082,    0.083083,    0.084084,    0.085085,    0.086086,    0.087087,    0.088088,    0.089089,     0.09009,    0.091091,    0.092092,    0.093093,    0.094094,    0.095095,\n",
       "          0.096096,    0.097097,    0.098098,    0.099099,      0.1001,      0.1011,      0.1021,      0.1031,      0.1041,     0.10511,     0.10611,     0.10711,     0.10811,     0.10911,     0.11011,     0.11111,     0.11211,     0.11311,     0.11411,     0.11512,     0.11612,     0.11712,     0.11812,     0.11912,\n",
       "           0.12012,     0.12112,     0.12212,     0.12312,     0.12412,     0.12513,     0.12613,     0.12713,     0.12813,     0.12913,     0.13013,     0.13113,     0.13213,     0.13313,     0.13413,     0.13514,     0.13614,     0.13714,     0.13814,     0.13914,     0.14014,     0.14114,     0.14214,     0.14314,\n",
       "           0.14414,     0.14515,     0.14615,     0.14715,     0.14815,     0.14915,     0.15015,     0.15115,     0.15215,     0.15315,     0.15415,     0.15516,     0.15616,     0.15716,     0.15816,     0.15916,     0.16016,     0.16116,     0.16216,     0.16316,     0.16416,     0.16517,     0.16617,     0.16717,\n",
       "           0.16817,     0.16917,     0.17017,     0.17117,     0.17217,     0.17317,     0.17417,     0.17518,     0.17618,     0.17718,     0.17818,     0.17918,     0.18018,     0.18118,     0.18218,     0.18318,     0.18418,     0.18519,     0.18619,     0.18719,     0.18819,     0.18919,     0.19019,     0.19119,\n",
       "           0.19219,     0.19319,     0.19419,      0.1952,      0.1962,      0.1972,      0.1982,      0.1992,      0.2002,      0.2012,      0.2022,      0.2032,      0.2042,     0.20521,     0.20621,     0.20721,     0.20821,     0.20921,     0.21021,     0.21121,     0.21221,     0.21321,     0.21421,     0.21522,\n",
       "           0.21622,     0.21722,     0.21822,     0.21922,     0.22022,     0.22122,     0.22222,     0.22322,     0.22422,     0.22523,     0.22623,     0.22723,     0.22823,     0.22923,     0.23023,     0.23123,     0.23223,     0.23323,     0.23423,     0.23524,     0.23624,     0.23724,     0.23824,     0.23924,\n",
       "           0.24024,     0.24124,     0.24224,     0.24324,     0.24424,     0.24525,     0.24625,     0.24725,     0.24825,     0.24925,     0.25025,     0.25125,     0.25225,     0.25325,     0.25425,     0.25526,     0.25626,     0.25726,     0.25826,     0.25926,     0.26026,     0.26126,     0.26226,     0.26326,\n",
       "           0.26426,     0.26527,     0.26627,     0.26727,     0.26827,     0.26927,     0.27027,     0.27127,     0.27227,     0.27327,     0.27427,     0.27528,     0.27628,     0.27728,     0.27828,     0.27928,     0.28028,     0.28128,     0.28228,     0.28328,     0.28428,     0.28529,     0.28629,     0.28729,\n",
       "           0.28829,     0.28929,     0.29029,     0.29129,     0.29229,     0.29329,     0.29429,      0.2953,      0.2963,      0.2973,      0.2983,      0.2993,      0.3003,      0.3013,      0.3023,      0.3033,      0.3043,     0.30531,     0.30631,     0.30731,     0.30831,     0.30931,     0.31031,     0.31131,\n",
       "           0.31231,     0.31331,     0.31431,     0.31532,     0.31632,     0.31732,     0.31832,     0.31932,     0.32032,     0.32132,     0.32232,     0.32332,     0.32432,     0.32533,     0.32633,     0.32733,     0.32833,     0.32933,     0.33033,     0.33133,     0.33233,     0.33333,     0.33433,     0.33534,\n",
       "           0.33634,     0.33734,     0.33834,     0.33934,     0.34034,     0.34134,     0.34234,     0.34334,     0.34434,     0.34535,     0.34635,     0.34735,     0.34835,     0.34935,     0.35035,     0.35135,     0.35235,     0.35335,     0.35435,     0.35536,     0.35636,     0.35736,     0.35836,     0.35936,\n",
       "           0.36036,     0.36136,     0.36236,     0.36336,     0.36436,     0.36537,     0.36637,     0.36737,     0.36837,     0.36937,     0.37037,     0.37137,     0.37237,     0.37337,     0.37437,     0.37538,     0.37638,     0.37738,     0.37838,     0.37938,     0.38038,     0.38138,     0.38238,     0.38338,\n",
       "           0.38438,     0.38539,     0.38639,     0.38739,     0.38839,     0.38939,     0.39039,     0.39139,     0.39239,     0.39339,     0.39439,      0.3954,      0.3964,      0.3974,      0.3984,      0.3994,      0.4004,      0.4014,      0.4024,      0.4034,      0.4044,     0.40541,     0.40641,     0.40741,\n",
       "           0.40841,     0.40941,     0.41041,     0.41141,     0.41241,     0.41341,     0.41441,     0.41542,     0.41642,     0.41742,     0.41842,     0.41942,     0.42042,     0.42142,     0.42242,     0.42342,     0.42442,     0.42543,     0.42643,     0.42743,     0.42843,     0.42943,     0.43043,     0.43143,\n",
       "           0.43243,     0.43343,     0.43443,     0.43544,     0.43644,     0.43744,     0.43844,     0.43944,     0.44044,     0.44144,     0.44244,     0.44344,     0.44444,     0.44545,     0.44645,     0.44745,     0.44845,     0.44945,     0.45045,     0.45145,     0.45245,     0.45345,     0.45445,     0.45546,\n",
       "           0.45646,     0.45746,     0.45846,     0.45946,     0.46046,     0.46146,     0.46246,     0.46346,     0.46446,     0.46547,     0.46647,     0.46747,     0.46847,     0.46947,     0.47047,     0.47147,     0.47247,     0.47347,     0.47447,     0.47548,     0.47648,     0.47748,     0.47848,     0.47948,\n",
       "           0.48048,     0.48148,     0.48248,     0.48348,     0.48448,     0.48549,     0.48649,     0.48749,     0.48849,     0.48949,     0.49049,     0.49149,     0.49249,     0.49349,     0.49449,      0.4955,      0.4965,      0.4975,      0.4985,      0.4995,      0.5005,      0.5015,      0.5025,      0.5035,\n",
       "            0.5045,     0.50551,     0.50651,     0.50751,     0.50851,     0.50951,     0.51051,     0.51151,     0.51251,     0.51351,     0.51451,     0.51552,     0.51652,     0.51752,     0.51852,     0.51952,     0.52052,     0.52152,     0.52252,     0.52352,     0.52452,     0.52553,     0.52653,     0.52753,\n",
       "           0.52853,     0.52953,     0.53053,     0.53153,     0.53253,     0.53353,     0.53453,     0.53554,     0.53654,     0.53754,     0.53854,     0.53954,     0.54054,     0.54154,     0.54254,     0.54354,     0.54454,     0.54555,     0.54655,     0.54755,     0.54855,     0.54955,     0.55055,     0.55155,\n",
       "           0.55255,     0.55355,     0.55455,     0.55556,     0.55656,     0.55756,     0.55856,     0.55956,     0.56056,     0.56156,     0.56256,     0.56356,     0.56456,     0.56557,     0.56657,     0.56757,     0.56857,     0.56957,     0.57057,     0.57157,     0.57257,     0.57357,     0.57457,     0.57558,\n",
       "           0.57658,     0.57758,     0.57858,     0.57958,     0.58058,     0.58158,     0.58258,     0.58358,     0.58458,     0.58559,     0.58659,     0.58759,     0.58859,     0.58959,     0.59059,     0.59159,     0.59259,     0.59359,     0.59459,      0.5956,      0.5966,      0.5976,      0.5986,      0.5996,\n",
       "            0.6006,      0.6016,      0.6026,      0.6036,      0.6046,     0.60561,     0.60661,     0.60761,     0.60861,     0.60961,     0.61061,     0.61161,     0.61261,     0.61361,     0.61461,     0.61562,     0.61662,     0.61762,     0.61862,     0.61962,     0.62062,     0.62162,     0.62262,     0.62362,\n",
       "           0.62462,     0.62563,     0.62663,     0.62763,     0.62863,     0.62963,     0.63063,     0.63163,     0.63263,     0.63363,     0.63463,     0.63564,     0.63664,     0.63764,     0.63864,     0.63964,     0.64064,     0.64164,     0.64264,     0.64364,     0.64464,     0.64565,     0.64665,     0.64765,\n",
       "           0.64865,     0.64965,     0.65065,     0.65165,     0.65265,     0.65365,     0.65465,     0.65566,     0.65666,     0.65766,     0.65866,     0.65966,     0.66066,     0.66166,     0.66266,     0.66366,     0.66466,     0.66567,     0.66667,     0.66767,     0.66867,     0.66967,     0.67067,     0.67167,\n",
       "           0.67267,     0.67367,     0.67467,     0.67568,     0.67668,     0.67768,     0.67868,     0.67968,     0.68068,     0.68168,     0.68268,     0.68368,     0.68468,     0.68569,     0.68669,     0.68769,     0.68869,     0.68969,     0.69069,     0.69169,     0.69269,     0.69369,     0.69469,      0.6957,\n",
       "            0.6967,      0.6977,      0.6987,      0.6997,      0.7007,      0.7017,      0.7027,      0.7037,      0.7047,     0.70571,     0.70671,     0.70771,     0.70871,     0.70971,     0.71071,     0.71171,     0.71271,     0.71371,     0.71471,     0.71572,     0.71672,     0.71772,     0.71872,     0.71972,\n",
       "           0.72072,     0.72172,     0.72272,     0.72372,     0.72472,     0.72573,     0.72673,     0.72773,     0.72873,     0.72973,     0.73073,     0.73173,     0.73273,     0.73373,     0.73473,     0.73574,     0.73674,     0.73774,     0.73874,     0.73974,     0.74074,     0.74174,     0.74274,     0.74374,\n",
       "           0.74474,     0.74575,     0.74675,     0.74775,     0.74875,     0.74975,     0.75075,     0.75175,     0.75275,     0.75375,     0.75475,     0.75576,     0.75676,     0.75776,     0.75876,     0.75976,     0.76076,     0.76176,     0.76276,     0.76376,     0.76476,     0.76577,     0.76677,     0.76777,\n",
       "           0.76877,     0.76977,     0.77077,     0.77177,     0.77277,     0.77377,     0.77477,     0.77578,     0.77678,     0.77778,     0.77878,     0.77978,     0.78078,     0.78178,     0.78278,     0.78378,     0.78478,     0.78579,     0.78679,     0.78779,     0.78879,     0.78979,     0.79079,     0.79179,\n",
       "           0.79279,     0.79379,     0.79479,      0.7958,      0.7968,      0.7978,      0.7988,      0.7998,      0.8008,      0.8018,      0.8028,      0.8038,      0.8048,     0.80581,     0.80681,     0.80781,     0.80881,     0.80981,     0.81081,     0.81181,     0.81281,     0.81381,     0.81481,     0.81582,\n",
       "           0.81682,     0.81782,     0.81882,     0.81982,     0.82082,     0.82182,     0.82282,     0.82382,     0.82482,     0.82583,     0.82683,     0.82783,     0.82883,     0.82983,     0.83083,     0.83183,     0.83283,     0.83383,     0.83483,     0.83584,     0.83684,     0.83784,     0.83884,     0.83984,\n",
       "           0.84084,     0.84184,     0.84284,     0.84384,     0.84484,     0.84585,     0.84685,     0.84785,     0.84885,     0.84985,     0.85085,     0.85185,     0.85285,     0.85385,     0.85485,     0.85586,     0.85686,     0.85786,     0.85886,     0.85986,     0.86086,     0.86186,     0.86286,     0.86386,\n",
       "           0.86486,     0.86587,     0.86687,     0.86787,     0.86887,     0.86987,     0.87087,     0.87187,     0.87287,     0.87387,     0.87487,     0.87588,     0.87688,     0.87788,     0.87888,     0.87988,     0.88088,     0.88188,     0.88288,     0.88388,     0.88488,     0.88589,     0.88689,     0.88789,\n",
       "           0.88889,     0.88989,     0.89089,     0.89189,     0.89289,     0.89389,     0.89489,      0.8959,      0.8969,      0.8979,      0.8989,      0.8999,      0.9009,      0.9019,      0.9029,      0.9039,      0.9049,     0.90591,     0.90691,     0.90791,     0.90891,     0.90991,     0.91091,     0.91191,\n",
       "           0.91291,     0.91391,     0.91491,     0.91592,     0.91692,     0.91792,     0.91892,     0.91992,     0.92092,     0.92192,     0.92292,     0.92392,     0.92492,     0.92593,     0.92693,     0.92793,     0.92893,     0.92993,     0.93093,     0.93193,     0.93293,     0.93393,     0.93493,     0.93594,\n",
       "           0.93694,     0.93794,     0.93894,     0.93994,     0.94094,     0.94194,     0.94294,     0.94394,     0.94494,     0.94595,     0.94695,     0.94795,     0.94895,     0.94995,     0.95095,     0.95195,     0.95295,     0.95395,     0.95495,     0.95596,     0.95696,     0.95796,     0.95896,     0.95996,\n",
       "           0.96096,     0.96196,     0.96296,     0.96396,     0.96496,     0.96597,     0.96697,     0.96797,     0.96897,     0.96997,     0.97097,     0.97197,     0.97297,     0.97397,     0.97497,     0.97598,     0.97698,     0.97798,     0.97898,     0.97998,     0.98098,     0.98198,     0.98298,     0.98398,\n",
       "           0.98498,     0.98599,     0.98699,     0.98799,     0.98899,     0.98999,     0.99099,     0.99199,     0.99299,     0.99399,     0.99499,       0.996,       0.997,       0.998,       0.999,           1]), array([[          1,           1,           1,           1,           1,           1,           1,           1,           1,           1,           1,           1,           1,           1,           1,           1,           1,           1,           1,           1,           1,           1,           1,\n",
       "                  1,           1,           1,           1,           1,           1,           1,           1,           1,           1,           1,           1,           1,           1,           1,           1,           1,           1,           1,           1,           1,           1,           1,\n",
       "                  1,           1,           1,           1,           1,           1,           1,           1,           1,           1,           1,           1,           1,           1,           1,           1,           1,           1,           1,           1,           1,           1,           1,\n",
       "                  1,           1,           1,           1,           1,           1,           1,           1,           1,           1,           1,           1,           1,           1,           1,           1,           1,           1,           1,           1,           1,           1,           1,\n",
       "                  1,     0.98462,     0.98462,     0.98462,     0.98462,     0.98462,     0.98462,     0.98462,     0.98462,     0.98462,     0.98462,     0.98462,     0.98462,     0.98462,     0.98462,     0.98462,     0.98462,     0.98462,     0.98462,     0.98462,     0.98462,     0.98462,     0.98462,\n",
       "            0.98462,     0.98462,     0.98462,     0.98462,     0.98462,     0.98462,     0.98462,     0.98462,     0.98462,     0.98462,     0.98462,     0.98462,     0.98462,     0.98462,     0.98462,     0.98462,     0.98462,     0.98462,     0.98462,     0.98462,     0.98462,     0.98462,     0.98462,\n",
       "            0.98462,     0.98462,     0.98462,     0.98462,     0.98462,     0.98462,     0.98462,     0.98462,     0.98462,     0.98462,     0.98462,     0.98462,     0.98462,     0.98462,     0.98462,     0.98462,     0.98462,     0.98462,     0.98462,     0.98462,     0.98462,     0.98462,     0.98462,\n",
       "            0.98462,     0.98462,     0.98462,     0.98462,     0.98462,     0.98462,     0.98462,     0.98462,     0.98462,     0.98462,     0.98462,     0.98462,     0.98462,     0.98462,     0.98462,     0.98462,     0.98462,     0.98462,     0.98462,     0.98462,     0.98462,     0.98462,     0.98462,\n",
       "            0.98462,     0.98462,     0.98462,     0.98462,     0.98462,     0.98462,     0.98462,     0.98462,     0.98462,     0.98462,     0.98462,     0.98462,     0.98462,     0.98462,     0.98462,     0.98462,     0.98462,     0.98462,     0.98462,     0.98462,     0.98462,     0.98462,     0.98462,\n",
       "            0.98462,     0.98462,     0.98462,     0.98462,     0.98462,     0.98462,     0.98462,     0.98462,     0.98462,     0.98462,     0.98462,     0.98462,     0.98462,     0.98462,     0.98462,     0.98462,     0.98462,     0.98462,     0.98462,     0.98462,     0.98462,     0.98462,     0.98462,\n",
       "            0.98462,     0.98462,     0.98462,     0.98462,     0.98462,     0.98462,     0.98462,     0.98462,     0.98462,     0.98462,     0.98462,     0.98462,     0.98462,     0.98462,     0.98462,     0.98462,     0.98462,     0.98462,     0.98462,     0.98462,     0.98462,     0.98462,     0.98462,\n",
       "            0.98462,     0.98462,     0.98462,     0.98462,     0.97531,     0.97531,     0.97531,     0.97531,     0.97531,     0.97531,     0.97531,     0.97531,     0.97531,     0.97531,     0.97531,     0.97531,     0.97531,     0.97531,     0.97531,     0.97531,     0.97531,     0.97531,     0.97531,\n",
       "            0.97531,     0.97531,     0.97531,     0.97531,     0.97531,     0.97531,     0.97531,     0.97531,     0.97531,     0.97531,     0.97531,     0.97531,     0.97531,     0.97531,     0.97531,     0.97531,     0.97531,     0.97531,     0.97531,     0.97531,     0.97531,     0.97531,     0.97531,\n",
       "            0.97531,     0.97531,     0.97531,     0.97531,     0.97531,     0.97531,     0.97531,     0.97531,     0.97531,     0.97531,     0.97531,     0.97531,     0.97531,     0.97531,     0.97531,     0.97531,     0.97531,     0.97531,     0.96629,     0.96629,     0.96629,     0.96629,     0.96629,\n",
       "            0.96629,     0.96629,     0.96629,     0.96629,     0.96629,     0.96629,     0.96629,     0.96629,     0.96629,     0.96629,     0.96629,     0.96629,     0.96629,     0.96629,     0.96629,     0.96629,     0.96629,     0.96629,     0.96629,     0.96629,     0.96629,     0.96629,     0.96629,\n",
       "            0.96629,     0.94681,     0.94681,     0.94681,     0.94681,     0.94681,     0.94681,     0.94681,     0.94681,     0.94681,     0.94681,     0.94681,     0.94681,      0.9375,      0.9375,      0.9375,      0.9375,       0.936,       0.936,       0.936,       0.936,       0.936,       0.936,\n",
       "              0.936,       0.936,       0.936,       0.936,       0.936,       0.936,       0.936,       0.936,       0.936,       0.936,       0.936,       0.936,       0.936,       0.936,       0.936,       0.936,       0.936,       0.936,       0.936,       0.936,       0.936,       0.936,       0.936,\n",
       "              0.936,       0.936,       0.936,       0.936,       0.936,       0.936,       0.936,       0.936,       0.936,       0.936,       0.936,       0.936,       0.936,       0.936,       0.936,       0.936,       0.936,       0.936,       0.936,       0.936,       0.936,       0.936,       0.936,\n",
       "              0.936,       0.936,       0.936,       0.936,       0.936,       0.936,       0.936,       0.936,       0.936,       0.936,       0.936,       0.936,       0.936,       0.936,       0.936,       0.936,       0.936,       0.936,       0.936,       0.936,       0.936,       0.936,       0.936,\n",
       "              0.936,       0.936,       0.936,       0.936,       0.936,       0.936,       0.936,       0.936,       0.936,       0.936,       0.936,       0.936,       0.936,       0.936,       0.936,       0.936,       0.936,       0.936,       0.936,       0.936,       0.936,       0.936,       0.936,\n",
       "              0.936,       0.936,       0.936,       0.936,       0.936,       0.936,       0.936,       0.936,       0.936,       0.936,     0.93333,     0.93333,     0.93333,     0.93333,     0.93333,     0.93333,     0.93333,     0.93333,     0.93333,     0.93333,     0.93333,     0.93333,     0.93333,\n",
       "            0.93333,     0.93333,     0.93333,     0.93333,     0.93333,     0.93333,     0.93333,     0.93333,     0.93333,     0.93333,     0.93333,     0.93333,     0.93333,     0.93333,     0.93333,     0.93333,     0.93333,     0.93333,     0.93333,     0.93333,     0.93333,     0.93333,     0.93333,\n",
       "            0.92903,     0.92903,     0.92903,     0.92903,     0.92903,     0.92903,     0.92903,     0.92903,     0.92903,     0.92903,     0.92903,     0.92903,     0.92903,     0.92903,     0.92903,     0.92903,     0.92903,     0.92903,     0.92903,     0.92903,     0.92903,     0.92903,     0.92903,\n",
       "            0.92903,     0.92903,     0.92903,     0.92903,     0.92903,     0.92903,     0.92903,     0.92903,     0.92903,     0.92903,     0.92903,     0.92903,     0.92903,     0.92903,     0.92903,     0.92903,     0.92903,     0.92903,     0.92903,     0.92903,     0.92903,     0.92903,     0.92903,\n",
       "            0.92903,     0.92903,     0.92903,     0.92903,     0.92903,     0.92903,     0.92903,     0.92903,     0.92903,     0.92903,     0.92903,     0.92903,     0.92903,     0.92903,     0.92903,     0.92903,     0.92903,     0.92903,     0.92903,     0.92903,     0.92903,     0.92903,     0.92903,\n",
       "            0.92903,     0.92903,     0.92903,       0.925,       0.925,       0.925,       0.925,       0.925,       0.925,       0.925,       0.925,       0.925,       0.925,       0.925,       0.925,       0.925,       0.925,       0.925,       0.925,     0.92073,     0.92073,     0.92073,     0.92073,\n",
       "            0.92073,     0.92073,     0.92073,     0.92073,     0.92073,     0.92073,     0.92073,     0.92073,     0.91765,     0.91765,     0.91765,     0.91765,     0.91765,     0.91765,     0.91765,     0.91765,     0.91765,     0.91765,     0.91765,     0.91765,     0.91765,     0.91765,     0.91765,\n",
       "            0.91765,     0.91765,     0.91765,     0.91765,     0.91765,     0.91279,     0.91279,     0.91279,     0.91279,     0.90805,     0.90805,     0.90805,     0.90805,     0.90341,     0.90341,     0.90341,     0.90341,      0.8956,      0.8956,      0.8956,      0.8956,      0.8956,      0.8956,\n",
       "             0.8956,      0.8956,      0.8956,      0.8956,      0.8956,      0.8956,      0.8956,      0.8956,      0.8956,      0.8956,      0.8913,      0.8913,      0.8913,      0.8913,      0.8877,      0.8877,      0.8877,      0.8877,      0.8877,      0.8877,      0.8877,      0.8877,      0.8836,\n",
       "             0.8836,      0.8836,      0.8836,      0.8836,     0.88144,     0.88144,     0.88144,     0.88144,     0.88144,     0.88144,     0.88144,     0.88144,     0.88144,     0.88144,     0.88144,     0.88144,     0.88144,     0.88144,     0.88144,     0.88144,     0.87879,     0.87879,     0.87879,\n",
       "            0.87879,     0.87879,     0.87879,     0.87879,     0.87879,     0.87879,     0.87879,     0.87879,     0.87879,     0.87562,     0.87562,     0.87562,     0.87562,     0.87562,     0.87562,     0.87562,     0.87562,     0.87192,     0.87192,     0.87192,     0.87192,     0.86829,     0.86829,\n",
       "            0.86829,     0.86829,     0.86603,     0.86603,     0.86603,     0.86603,     0.86603,     0.86603,     0.86603,     0.86603,     0.86603,     0.86603,     0.86603,     0.86603,     0.86321,     0.86321,     0.86321,     0.86321,     0.86321,     0.86321,     0.86321,     0.86321,     0.85253,\n",
       "            0.85253,     0.85253,     0.85253,     0.85253,     0.85253,     0.85253,     0.85253,     0.83482,     0.83482,     0.83482,     0.83482,     0.83482,     0.83482,     0.83482,     0.83482,     0.82895,     0.82895,     0.82895,     0.82895,     0.82895,     0.82895,     0.82895,     0.82895,\n",
       "            0.81897,     0.81897,     0.81897,     0.81897,     0.81624,     0.81624,     0.81624,     0.81624,     0.81013,     0.81013,     0.81013,     0.81013,     0.79752,     0.79752,     0.79752,     0.79752,     0.78862,     0.78862,     0.78862,     0.78862,     0.78313,     0.78313,     0.78313,\n",
       "            0.78313,      0.7747,      0.7747,      0.7747,      0.7747,     0.73507,     0.73507,     0.73507,     0.73507,        0.72,        0.72,        0.72,        0.72,     0.71841,     0.71841,     0.71841,     0.71841,     0.71685,     0.71685,     0.71685,     0.71685,     0.71277,     0.71277,\n",
       "            0.71277,     0.71277,     0.70877,     0.70877,     0.70877,     0.70877,     0.70486,     0.70486,     0.70486,     0.70486,     0.69728,     0.69728,     0.69728,     0.69728,     0.69728,     0.69728,     0.69728,     0.69728,     0.69595,     0.69595,     0.69595,     0.69595,     0.67647,\n",
       "            0.67647,     0.67647,     0.67647,     0.67532,     0.67532,     0.67532,     0.67532,     0.62388,     0.62388,     0.62388,     0.62388,     0.61947,     0.61947,     0.61947,     0.61947,     0.59773,     0.59773,     0.59773,     0.59773,     0.59218,     0.59218,     0.59218,     0.59218,\n",
       "            0.59167,     0.59167,     0.59167,     0.59167,     0.46121,     0.46121,     0.46121,     0.46121,     0.45073,     0.45073,     0.45073,     0.45073,     0.39926,     0.39926,     0.39926,     0.39926,     0.39671,     0.39671,     0.39671,     0.39671,     0.38313,     0.38313,     0.38313,\n",
       "            0.38313,     0.35494,     0.35494,     0.35494,     0.35494,      0.2977,      0.2977,      0.2977,      0.2977,     0.27764,     0.27764,     0.27764,     0.27764,     0.27578,     0.27578,     0.27578,     0.27578,     0.26998,     0.26998,     0.26998,     0.26998,     0.24834,     0.24834,\n",
       "            0.24834,     0.24834,     0.24619,     0.24619,     0.24619,     0.24619,     0.24619,     0.24619,     0.24619,     0.24619,     0.22906,     0.22906,     0.22906,     0.22906,     0.19982,     0.19982,     0.19982,     0.19982,     0.19758,     0.19758,     0.19758,     0.19758,     0.19103,\n",
       "            0.19103,     0.19103,     0.19103,     0.17865,     0.17865,     0.17865,     0.17865,     0.15293,     0.15293,     0.15293,     0.15293,     0.10581,     0.10581,     0.10581,     0.10581,     0.10327,     0.10327,     0.10327,     0.10327,     0.05764,     0.05764,     0.05764,     0.05764,\n",
       "           0.052109,    0.052109,    0.052109,    0.052109,    0.050619,    0.050619,    0.050619,    0.050619,    0.047782,    0.047782,    0.047782,    0.047782,     0.04103,     0.04103,     0.04103,     0.04103,    0.040343,    0.040343,    0.040343,    0.040343,    0.036241,    0.036241,    0.036241,\n",
       "           0.036241,    0.028516,    0.027625,    0.026734,    0.025843,    0.024952,     0.02406,    0.023169,    0.022278,    0.021387,    0.020496,    0.019605,    0.018714,    0.017823,    0.016931,     0.01604,    0.015149,    0.014258,    0.013367,    0.012476,    0.011585,    0.010694,   0.0098024,\n",
       "          0.0089113,   0.0080201,    0.007129,   0.0062379,   0.0053468,   0.0044556,   0.0035645,   0.0026734,   0.0017823,  0.00089113,           0]]), 'Recall', 'Precision'], [array([          0,    0.001001,    0.002002,    0.003003,    0.004004,    0.005005,    0.006006,    0.007007,    0.008008,    0.009009,     0.01001,    0.011011,    0.012012,    0.013013,    0.014014,    0.015015,    0.016016,    0.017017,    0.018018,    0.019019,     0.02002,    0.021021,    0.022022,    0.023023,\n",
       "          0.024024,    0.025025,    0.026026,    0.027027,    0.028028,    0.029029,     0.03003,    0.031031,    0.032032,    0.033033,    0.034034,    0.035035,    0.036036,    0.037037,    0.038038,    0.039039,     0.04004,    0.041041,    0.042042,    0.043043,    0.044044,    0.045045,    0.046046,    0.047047,\n",
       "          0.048048,    0.049049,     0.05005,    0.051051,    0.052052,    0.053053,    0.054054,    0.055055,    0.056056,    0.057057,    0.058058,    0.059059,     0.06006,    0.061061,    0.062062,    0.063063,    0.064064,    0.065065,    0.066066,    0.067067,    0.068068,    0.069069,     0.07007,    0.071071,\n",
       "          0.072072,    0.073073,    0.074074,    0.075075,    0.076076,    0.077077,    0.078078,    0.079079,     0.08008,    0.081081,    0.082082,    0.083083,    0.084084,    0.085085,    0.086086,    0.087087,    0.088088,    0.089089,     0.09009,    0.091091,    0.092092,    0.093093,    0.094094,    0.095095,\n",
       "          0.096096,    0.097097,    0.098098,    0.099099,      0.1001,      0.1011,      0.1021,      0.1031,      0.1041,     0.10511,     0.10611,     0.10711,     0.10811,     0.10911,     0.11011,     0.11111,     0.11211,     0.11311,     0.11411,     0.11512,     0.11612,     0.11712,     0.11812,     0.11912,\n",
       "           0.12012,     0.12112,     0.12212,     0.12312,     0.12412,     0.12513,     0.12613,     0.12713,     0.12813,     0.12913,     0.13013,     0.13113,     0.13213,     0.13313,     0.13413,     0.13514,     0.13614,     0.13714,     0.13814,     0.13914,     0.14014,     0.14114,     0.14214,     0.14314,\n",
       "           0.14414,     0.14515,     0.14615,     0.14715,     0.14815,     0.14915,     0.15015,     0.15115,     0.15215,     0.15315,     0.15415,     0.15516,     0.15616,     0.15716,     0.15816,     0.15916,     0.16016,     0.16116,     0.16216,     0.16316,     0.16416,     0.16517,     0.16617,     0.16717,\n",
       "           0.16817,     0.16917,     0.17017,     0.17117,     0.17217,     0.17317,     0.17417,     0.17518,     0.17618,     0.17718,     0.17818,     0.17918,     0.18018,     0.18118,     0.18218,     0.18318,     0.18418,     0.18519,     0.18619,     0.18719,     0.18819,     0.18919,     0.19019,     0.19119,\n",
       "           0.19219,     0.19319,     0.19419,      0.1952,      0.1962,      0.1972,      0.1982,      0.1992,      0.2002,      0.2012,      0.2022,      0.2032,      0.2042,     0.20521,     0.20621,     0.20721,     0.20821,     0.20921,     0.21021,     0.21121,     0.21221,     0.21321,     0.21421,     0.21522,\n",
       "           0.21622,     0.21722,     0.21822,     0.21922,     0.22022,     0.22122,     0.22222,     0.22322,     0.22422,     0.22523,     0.22623,     0.22723,     0.22823,     0.22923,     0.23023,     0.23123,     0.23223,     0.23323,     0.23423,     0.23524,     0.23624,     0.23724,     0.23824,     0.23924,\n",
       "           0.24024,     0.24124,     0.24224,     0.24324,     0.24424,     0.24525,     0.24625,     0.24725,     0.24825,     0.24925,     0.25025,     0.25125,     0.25225,     0.25325,     0.25425,     0.25526,     0.25626,     0.25726,     0.25826,     0.25926,     0.26026,     0.26126,     0.26226,     0.26326,\n",
       "           0.26426,     0.26527,     0.26627,     0.26727,     0.26827,     0.26927,     0.27027,     0.27127,     0.27227,     0.27327,     0.27427,     0.27528,     0.27628,     0.27728,     0.27828,     0.27928,     0.28028,     0.28128,     0.28228,     0.28328,     0.28428,     0.28529,     0.28629,     0.28729,\n",
       "           0.28829,     0.28929,     0.29029,     0.29129,     0.29229,     0.29329,     0.29429,      0.2953,      0.2963,      0.2973,      0.2983,      0.2993,      0.3003,      0.3013,      0.3023,      0.3033,      0.3043,     0.30531,     0.30631,     0.30731,     0.30831,     0.30931,     0.31031,     0.31131,\n",
       "           0.31231,     0.31331,     0.31431,     0.31532,     0.31632,     0.31732,     0.31832,     0.31932,     0.32032,     0.32132,     0.32232,     0.32332,     0.32432,     0.32533,     0.32633,     0.32733,     0.32833,     0.32933,     0.33033,     0.33133,     0.33233,     0.33333,     0.33433,     0.33534,\n",
       "           0.33634,     0.33734,     0.33834,     0.33934,     0.34034,     0.34134,     0.34234,     0.34334,     0.34434,     0.34535,     0.34635,     0.34735,     0.34835,     0.34935,     0.35035,     0.35135,     0.35235,     0.35335,     0.35435,     0.35536,     0.35636,     0.35736,     0.35836,     0.35936,\n",
       "           0.36036,     0.36136,     0.36236,     0.36336,     0.36436,     0.36537,     0.36637,     0.36737,     0.36837,     0.36937,     0.37037,     0.37137,     0.37237,     0.37337,     0.37437,     0.37538,     0.37638,     0.37738,     0.37838,     0.37938,     0.38038,     0.38138,     0.38238,     0.38338,\n",
       "           0.38438,     0.38539,     0.38639,     0.38739,     0.38839,     0.38939,     0.39039,     0.39139,     0.39239,     0.39339,     0.39439,      0.3954,      0.3964,      0.3974,      0.3984,      0.3994,      0.4004,      0.4014,      0.4024,      0.4034,      0.4044,     0.40541,     0.40641,     0.40741,\n",
       "           0.40841,     0.40941,     0.41041,     0.41141,     0.41241,     0.41341,     0.41441,     0.41542,     0.41642,     0.41742,     0.41842,     0.41942,     0.42042,     0.42142,     0.42242,     0.42342,     0.42442,     0.42543,     0.42643,     0.42743,     0.42843,     0.42943,     0.43043,     0.43143,\n",
       "           0.43243,     0.43343,     0.43443,     0.43544,     0.43644,     0.43744,     0.43844,     0.43944,     0.44044,     0.44144,     0.44244,     0.44344,     0.44444,     0.44545,     0.44645,     0.44745,     0.44845,     0.44945,     0.45045,     0.45145,     0.45245,     0.45345,     0.45445,     0.45546,\n",
       "           0.45646,     0.45746,     0.45846,     0.45946,     0.46046,     0.46146,     0.46246,     0.46346,     0.46446,     0.46547,     0.46647,     0.46747,     0.46847,     0.46947,     0.47047,     0.47147,     0.47247,     0.47347,     0.47447,     0.47548,     0.47648,     0.47748,     0.47848,     0.47948,\n",
       "           0.48048,     0.48148,     0.48248,     0.48348,     0.48448,     0.48549,     0.48649,     0.48749,     0.48849,     0.48949,     0.49049,     0.49149,     0.49249,     0.49349,     0.49449,      0.4955,      0.4965,      0.4975,      0.4985,      0.4995,      0.5005,      0.5015,      0.5025,      0.5035,\n",
       "            0.5045,     0.50551,     0.50651,     0.50751,     0.50851,     0.50951,     0.51051,     0.51151,     0.51251,     0.51351,     0.51451,     0.51552,     0.51652,     0.51752,     0.51852,     0.51952,     0.52052,     0.52152,     0.52252,     0.52352,     0.52452,     0.52553,     0.52653,     0.52753,\n",
       "           0.52853,     0.52953,     0.53053,     0.53153,     0.53253,     0.53353,     0.53453,     0.53554,     0.53654,     0.53754,     0.53854,     0.53954,     0.54054,     0.54154,     0.54254,     0.54354,     0.54454,     0.54555,     0.54655,     0.54755,     0.54855,     0.54955,     0.55055,     0.55155,\n",
       "           0.55255,     0.55355,     0.55455,     0.55556,     0.55656,     0.55756,     0.55856,     0.55956,     0.56056,     0.56156,     0.56256,     0.56356,     0.56456,     0.56557,     0.56657,     0.56757,     0.56857,     0.56957,     0.57057,     0.57157,     0.57257,     0.57357,     0.57457,     0.57558,\n",
       "           0.57658,     0.57758,     0.57858,     0.57958,     0.58058,     0.58158,     0.58258,     0.58358,     0.58458,     0.58559,     0.58659,     0.58759,     0.58859,     0.58959,     0.59059,     0.59159,     0.59259,     0.59359,     0.59459,      0.5956,      0.5966,      0.5976,      0.5986,      0.5996,\n",
       "            0.6006,      0.6016,      0.6026,      0.6036,      0.6046,     0.60561,     0.60661,     0.60761,     0.60861,     0.60961,     0.61061,     0.61161,     0.61261,     0.61361,     0.61461,     0.61562,     0.61662,     0.61762,     0.61862,     0.61962,     0.62062,     0.62162,     0.62262,     0.62362,\n",
       "           0.62462,     0.62563,     0.62663,     0.62763,     0.62863,     0.62963,     0.63063,     0.63163,     0.63263,     0.63363,     0.63463,     0.63564,     0.63664,     0.63764,     0.63864,     0.63964,     0.64064,     0.64164,     0.64264,     0.64364,     0.64464,     0.64565,     0.64665,     0.64765,\n",
       "           0.64865,     0.64965,     0.65065,     0.65165,     0.65265,     0.65365,     0.65465,     0.65566,     0.65666,     0.65766,     0.65866,     0.65966,     0.66066,     0.66166,     0.66266,     0.66366,     0.66466,     0.66567,     0.66667,     0.66767,     0.66867,     0.66967,     0.67067,     0.67167,\n",
       "           0.67267,     0.67367,     0.67467,     0.67568,     0.67668,     0.67768,     0.67868,     0.67968,     0.68068,     0.68168,     0.68268,     0.68368,     0.68468,     0.68569,     0.68669,     0.68769,     0.68869,     0.68969,     0.69069,     0.69169,     0.69269,     0.69369,     0.69469,      0.6957,\n",
       "            0.6967,      0.6977,      0.6987,      0.6997,      0.7007,      0.7017,      0.7027,      0.7037,      0.7047,     0.70571,     0.70671,     0.70771,     0.70871,     0.70971,     0.71071,     0.71171,     0.71271,     0.71371,     0.71471,     0.71572,     0.71672,     0.71772,     0.71872,     0.71972,\n",
       "           0.72072,     0.72172,     0.72272,     0.72372,     0.72472,     0.72573,     0.72673,     0.72773,     0.72873,     0.72973,     0.73073,     0.73173,     0.73273,     0.73373,     0.73473,     0.73574,     0.73674,     0.73774,     0.73874,     0.73974,     0.74074,     0.74174,     0.74274,     0.74374,\n",
       "           0.74474,     0.74575,     0.74675,     0.74775,     0.74875,     0.74975,     0.75075,     0.75175,     0.75275,     0.75375,     0.75475,     0.75576,     0.75676,     0.75776,     0.75876,     0.75976,     0.76076,     0.76176,     0.76276,     0.76376,     0.76476,     0.76577,     0.76677,     0.76777,\n",
       "           0.76877,     0.76977,     0.77077,     0.77177,     0.77277,     0.77377,     0.77477,     0.77578,     0.77678,     0.77778,     0.77878,     0.77978,     0.78078,     0.78178,     0.78278,     0.78378,     0.78478,     0.78579,     0.78679,     0.78779,     0.78879,     0.78979,     0.79079,     0.79179,\n",
       "           0.79279,     0.79379,     0.79479,      0.7958,      0.7968,      0.7978,      0.7988,      0.7998,      0.8008,      0.8018,      0.8028,      0.8038,      0.8048,     0.80581,     0.80681,     0.80781,     0.80881,     0.80981,     0.81081,     0.81181,     0.81281,     0.81381,     0.81481,     0.81582,\n",
       "           0.81682,     0.81782,     0.81882,     0.81982,     0.82082,     0.82182,     0.82282,     0.82382,     0.82482,     0.82583,     0.82683,     0.82783,     0.82883,     0.82983,     0.83083,     0.83183,     0.83283,     0.83383,     0.83483,     0.83584,     0.83684,     0.83784,     0.83884,     0.83984,\n",
       "           0.84084,     0.84184,     0.84284,     0.84384,     0.84484,     0.84585,     0.84685,     0.84785,     0.84885,     0.84985,     0.85085,     0.85185,     0.85285,     0.85385,     0.85485,     0.85586,     0.85686,     0.85786,     0.85886,     0.85986,     0.86086,     0.86186,     0.86286,     0.86386,\n",
       "           0.86486,     0.86587,     0.86687,     0.86787,     0.86887,     0.86987,     0.87087,     0.87187,     0.87287,     0.87387,     0.87487,     0.87588,     0.87688,     0.87788,     0.87888,     0.87988,     0.88088,     0.88188,     0.88288,     0.88388,     0.88488,     0.88589,     0.88689,     0.88789,\n",
       "           0.88889,     0.88989,     0.89089,     0.89189,     0.89289,     0.89389,     0.89489,      0.8959,      0.8969,      0.8979,      0.8989,      0.8999,      0.9009,      0.9019,      0.9029,      0.9039,      0.9049,     0.90591,     0.90691,     0.90791,     0.90891,     0.90991,     0.91091,     0.91191,\n",
       "           0.91291,     0.91391,     0.91491,     0.91592,     0.91692,     0.91792,     0.91892,     0.91992,     0.92092,     0.92192,     0.92292,     0.92392,     0.92492,     0.92593,     0.92693,     0.92793,     0.92893,     0.92993,     0.93093,     0.93193,     0.93293,     0.93393,     0.93493,     0.93594,\n",
       "           0.93694,     0.93794,     0.93894,     0.93994,     0.94094,     0.94194,     0.94294,     0.94394,     0.94494,     0.94595,     0.94695,     0.94795,     0.94895,     0.94995,     0.95095,     0.95195,     0.95295,     0.95395,     0.95495,     0.95596,     0.95696,     0.95796,     0.95896,     0.95996,\n",
       "           0.96096,     0.96196,     0.96296,     0.96396,     0.96496,     0.96597,     0.96697,     0.96797,     0.96897,     0.96997,     0.97097,     0.97197,     0.97297,     0.97397,     0.97497,     0.97598,     0.97698,     0.97798,     0.97898,     0.97998,     0.98098,     0.98198,     0.98298,     0.98398,\n",
       "           0.98498,     0.98599,     0.98699,     0.98799,     0.98899,     0.98999,     0.99099,     0.99199,     0.99299,     0.99399,     0.99499,       0.996,       0.997,       0.998,       0.999,           1]), array([[   0.055562,    0.055562,    0.083713,     0.10929,     0.13352,     0.15828,     0.18014,     0.19553,     0.21424,     0.22854,     0.24357,     0.25657,     0.26737,     0.28048,     0.29261,     0.30283,     0.31591,     0.32472,      0.3304,     0.34225,     0.35386,     0.36228,     0.36951,\n",
       "             0.3765,     0.38388,     0.38817,     0.39318,     0.39973,     0.40816,     0.41476,     0.42061,     0.42193,     0.42965,     0.43675,     0.44211,     0.44703,     0.45375,     0.45971,     0.46373,     0.46968,     0.47267,     0.47666,      0.4791,     0.48221,     0.48643,     0.49349,\n",
       "            0.49676,     0.49917,     0.50309,     0.50458,     0.50786,     0.50967,     0.51192,     0.51339,     0.51763,     0.52123,     0.52318,     0.52815,     0.52955,     0.53256,     0.53183,     0.53429,     0.53957,     0.54244,     0.54388,     0.54621,     0.54837,     0.55122,     0.55313,\n",
       "            0.55578,     0.55918,     0.56289,     0.56415,     0.56496,     0.56759,     0.57223,     0.57295,      0.5748,     0.57724,     0.58046,     0.58228,     0.58587,     0.58897,     0.59061,     0.59221,     0.59083,     0.59097,     0.59182,     0.59383,     0.59604,     0.59945,     0.59839,\n",
       "            0.60049,     0.60182,     0.60228,      0.6029,     0.60527,     0.60566,     0.60617,     0.60724,     0.60916,     0.61155,      0.6129,      0.6142,     0.61647,     0.61984,     0.62114,     0.62159,     0.62258,     0.62392,     0.62497,     0.62596,     0.62687,      0.6275,     0.62826,\n",
       "            0.62919,     0.63187,     0.63344,     0.63423,     0.63515,     0.63554,     0.63612,      0.6371,     0.63817,     0.64003,     0.64082,     0.64126,     0.64235,     0.64366,     0.64573,     0.64651,     0.64713,     0.64814,     0.65119,     0.65414,     0.65475,     0.65518,     0.65613,\n",
       "            0.66088,     0.66327,     0.66407,     0.66472,     0.66522,     0.66579,     0.66665,     0.66841,     0.66904,     0.66958,     0.66996,     0.67023,      0.6705,     0.67077,     0.67349,     0.67625,     0.67698,     0.67872,     0.67991,     0.68272,     0.68325,     0.68378,     0.68723,\n",
       "            0.68758,     0.68793,     0.68851,     0.68993,     0.69138,      0.6929,     0.69332,     0.69374,     0.69626,     0.69678,      0.6975,     0.69914,     0.69788,     0.69784,      0.6967,     0.69757,     0.69771,     0.69785,     0.69799,     0.69812,     0.69826,      0.6984,     0.69854,\n",
       "            0.69867,     0.69989,     0.70032,     0.70076,     0.70013,     0.70043,     0.70073,     0.70103,      0.7016,     0.70235,     0.70253,      0.7027,     0.70287,     0.70304,     0.70322,     0.70339,       0.704,     0.70511,     0.70576,     0.70722,     0.70992,     0.71078,     0.71125,\n",
       "            0.71172,     0.71329,      0.7136,     0.71391,     0.71422,     0.71259,     0.71321,     0.71505,     0.71568,     0.71376,      0.7142,     0.71668,     0.71756,     0.71793,     0.71831,     0.71859,     0.71879,       0.719,      0.7192,     0.71941,     0.71961,     0.72102,     0.72162,\n",
       "            0.72223,     0.72357,      0.7239,     0.72424,     0.72457,     0.72508,     0.72577,     0.72754,     0.72794,     0.72834,     0.72919,     0.72998,     0.73027,     0.73056,     0.73085,     0.73118,     0.73177,     0.73236,     0.73387,     0.73419,     0.73451,     0.73484,     0.73595,\n",
       "            0.73701,     0.73778,     0.73831,     0.73885,     0.74215,     0.74283,     0.74344,     0.74404,     0.74554,     0.74633,     0.74653,      0.7455,     0.74465,     0.74497,     0.74529,     0.74562,     0.74594,     0.74412,     0.74393,     0.74425,     0.74458,      0.7449,     0.74571,\n",
       "            0.74669,     0.74749,     0.74973,     0.75052,     0.75082,     0.75111,     0.75141,      0.7517,      0.7523,     0.75311,     0.75475,     0.75589,     0.75487,      0.7537,      0.7543,     0.75493,     0.75383,     0.75256,     0.75193,      0.7513,     0.75067,     0.75094,     0.75165,\n",
       "            0.75336,     0.75383,     0.75431,     0.75551,     0.75567,     0.75519,     0.75471,     0.75424,     0.75376,     0.75412,     0.75453,     0.75494,     0.75524,     0.75544,     0.75564,     0.75584,     0.75604,     0.75624,     0.75644,     0.75442,     0.75502,     0.75572,     0.75602,\n",
       "            0.75633,     0.75664,     0.75694,     0.75686,     0.75654,     0.75622,      0.7559,     0.75558,     0.75526,     0.75494,      0.7553,     0.75738,     0.75584,     0.75467,     0.75346,     0.75368,     0.75405,     0.75442,     0.75479,     0.75501,     0.75523,     0.75545,     0.75567,\n",
       "            0.75589,     0.75611,     0.75633,     0.75653,     0.75674,     0.75694,     0.75715,     0.75735,     0.75756,     0.75822,     0.76094,      0.7618,     0.76149,      0.7606,      0.7597,     0.76054,      0.7612,      0.7613,     0.76141,     0.76152,     0.76163,     0.76174,     0.76185,\n",
       "            0.76195,     0.76206,     0.76217,     0.76228,     0.76239,      0.7625,      0.7626,     0.76312,     0.76388,     0.76436,      0.7647,     0.76504,     0.76538,     0.76584,     0.76661,     0.76716,     0.76727,     0.76738,     0.76748,     0.76759,      0.7677,     0.76781,     0.76792,\n",
       "            0.76802,     0.76813,     0.76824,     0.76835,     0.76846,     0.76857,     0.76877,     0.76909,     0.76942,     0.76974,     0.77007,     0.77055,     0.77107,     0.77158,     0.77214,     0.77271,     0.77332,      0.7741,     0.77488,     0.77567,     0.77638,     0.77691,     0.77744,\n",
       "            0.77787,     0.77815,     0.77843,      0.7787,     0.77898,     0.77925,     0.77903,     0.77967,     0.78127,     0.78239,     0.78148,      0.7809,     0.78232,     0.78273,     0.78313,     0.78354,     0.78352,     0.78226,     0.78187,     0.78323,     0.78405,     0.78472,     0.78515,\n",
       "            0.78559,     0.78603,     0.78524,     0.78397,      0.7838,     0.78396,     0.78413,     0.78429,     0.78446,     0.78462,     0.78479,     0.78495,     0.78511,     0.78528,     0.78538,     0.78549,     0.78559,      0.7857,      0.7858,     0.78591,     0.78601,     0.78612,     0.78622,\n",
       "            0.78633,     0.78643,     0.78653,     0.78664,     0.78674,     0.78685,     0.78724,     0.78779,     0.78835,      0.7888,     0.78922,     0.78963,     0.79005,     0.78804,     0.78798,      0.7884,     0.78881,     0.78923,     0.78952,      0.7898,     0.79008,     0.79036,     0.79064,\n",
       "            0.79082,     0.78996,      0.7891,     0.78847,     0.78903,     0.78959,     0.78972,     0.78843,     0.78774,     0.78858,     0.78942,     0.79027,     0.79231,     0.79194,     0.79157,      0.7912,     0.79083,     0.79046,     0.79008,     0.78976,     0.78947,     0.78918,     0.78889,\n",
       "             0.7886,     0.78831,     0.78802,     0.78773,     0.78744,     0.79036,     0.78992,     0.78949,     0.78905,     0.78861,     0.78817,     0.78733,     0.78645,     0.78557,     0.78613,      0.7867,     0.78726,      0.7876,     0.78794,     0.78829,     0.78863,     0.78894,     0.78912,\n",
       "            0.78929,     0.78946,     0.78964,     0.78981,     0.78998,     0.79015,     0.79033,      0.7905,     0.79134,     0.79269,     0.79356,     0.79095,     0.79006,     0.78917,      0.7893,     0.79017,     0.79159,     0.79235,     0.79257,     0.79279,     0.79301,     0.79323,     0.79345,\n",
       "            0.79367,     0.79389,     0.79166,     0.78895,     0.78927,     0.78959,     0.78991,     0.79023,     0.78903,     0.78631,     0.78358,     0.78343,     0.78373,     0.78304,     0.78235,     0.78167,      0.7817,     0.78206,     0.78241,     0.78277,     0.78312,     0.78273,     0.78218,\n",
       "            0.78163,     0.78107,     0.78052,     0.78216,     0.78201,     0.78179,     0.78156,     0.78134,     0.78112,      0.7809,     0.78067,     0.78045,     0.78023,     0.78001,     0.77978,     0.77956,     0.77844,     0.77704,     0.77711,     0.77751,      0.7779,      0.7783,     0.77839,\n",
       "            0.77808,     0.77777,     0.77746,     0.77714,     0.77683,     0.77652,     0.77621,     0.77589,     0.77396,     0.77281,     0.77248,     0.77214,     0.77181,     0.77148,     0.77114,     0.77081,     0.77048,     0.77054,     0.77126,     0.77197,     0.77134,     0.77063,     0.76992,\n",
       "            0.76919,     0.76824,     0.76729,     0.76579,     0.76138,     0.76227,      0.7606,     0.76014,     0.76074,     0.76133,     0.75922,      0.7582,     0.75766,     0.75713,      0.7566,     0.75606,      0.7573,     0.75473,      0.7555,     0.75636,     0.75488,      0.7533,     0.75041,\n",
       "            0.74841,     0.74725,     0.74658,     0.74591,     0.74524,     0.74662,     0.74722,     0.74782,     0.74566,     0.74686,      0.7464,     0.74564,     0.74488,     0.74412,     0.74442,     0.74478,     0.74514,     0.74551,     0.74574,     0.74421,     0.74306,     0.74421,     0.74143,\n",
       "            0.74019,     0.73895,     0.73636,     0.73171,     0.73098,     0.73008,     0.72918,     0.72827,     0.72737,     0.72646,     0.72556,     0.72434,     0.72274,     0.72218,     0.72263,     0.72309,     0.72354,     0.72179,     0.71857,     0.71604,     0.71368,     0.71137,     0.71257,\n",
       "            0.71206,     0.71096,     0.70987,     0.70142,     0.69982,      0.6993,     0.69879,     0.69828,     0.69776,     0.69725,     0.69341,     0.69004,     0.68681,     0.68596,     0.68511,     0.68426,     0.68299,     0.68014,     0.67981,     0.67949,     0.67916,     0.67883,      0.6785,\n",
       "            0.67818,     0.67785,     0.67752,     0.67719,     0.67686,     0.67591,     0.67492,     0.67394,     0.67255,     0.67081,     0.66806,     0.66111,     0.65479,     0.65507,     0.65111,     0.64844,     0.64532,     0.64386,      0.6424,     0.64064,      0.6388,     0.63795,     0.63728,\n",
       "            0.63661,     0.63594,     0.63527,     0.63058,     0.62909,      0.6276,      0.6261,      0.6246,     0.62469,     0.62092,     0.61662,     0.61052,     0.60898,     0.60743,     0.59843,     0.59337,     0.59052,     0.58893,     0.58114,      0.5766,     0.56713,      0.5644,      0.5623,\n",
       "            0.56024,     0.55196,     0.54738,     0.54618,     0.54498,     0.54342,     0.53947,     0.53734,      0.5348,     0.52959,     0.52038,       0.521,     0.52162,     0.51939,     0.51848,     0.50962,     0.50782,     0.50602,     0.50645,     0.50706,     0.50787,     0.50882,      0.5058,\n",
       "            0.49994,     0.49911,     0.49828,     0.49744,     0.49661,     0.49577,     0.48582,     0.48271,      0.4784,     0.47805,     0.47711,     0.47616,     0.47521,     0.47426,     0.47131,     0.46847,     0.46607,      0.4639,     0.46197,     0.45998,     0.45675,     0.45255,     0.45032,\n",
       "            0.44983,     0.44934,     0.44885,     0.44836,     0.44786,     0.44737,     0.44688,     0.44639,     0.44589,     0.44372,     0.44125,     0.42919,     0.42487,     0.42148,     0.41142,     0.41011,     0.40882,     0.40752,     0.40637,     0.40662,     0.40686,      0.4071,     0.40734,\n",
       "            0.40758,      0.4013,     0.39704,     0.39553,     0.39402,     0.39251,     0.38145,     0.38025,     0.37905,     0.37786,     0.37666,     0.37487,     0.37306,     0.37125,     0.36944,     0.36762,     0.36472,     0.35892,     0.35615,     0.35149,     0.34173,     0.33615,     0.32904,\n",
       "             0.3188,     0.30898,     0.30429,     0.30193,     0.29956,     0.29106,     0.28592,      0.2819,     0.28061,      0.2794,     0.27818,     0.27697,     0.27471,     0.26741,       0.263,      0.2568,     0.24934,     0.23844,     0.23703,     0.23561,     0.23419,     0.22919,     0.21706,\n",
       "            0.21191,     0.20277,     0.19545,     0.19082,     0.18752,     0.18559,     0.18366,     0.18166,     0.17827,     0.17389,     0.16897,     0.16771,     0.16646,      0.1652,     0.16394,     0.16267,     0.15026,     0.14595,     0.14241,     0.13885,     0.13528,     0.13326,     0.13147,\n",
       "            0.12967,     0.12787,     0.11792,       0.115,     0.11252,     0.11042,     0.10832,     0.10602,     0.10232,    0.098879,    0.096751,    0.094618,    0.092481,     0.08425,    0.082875,    0.081499,    0.080121,     0.07874,    0.077358,    0.072641,    0.063041,    0.061208,    0.060102,\n",
       "           0.058995,    0.057887,    0.056777,    0.055666,    0.054064,    0.048854,    0.038479,    0.033185,    0.023591,    0.022585,    0.021579,    0.020571,    0.019562,    0.018553,    0.017542,    0.016531,    0.015421,    0.014173,    0.012924,    0.011673,     0.01042,   0.0091657,           0,\n",
       "                  0,           0,           0,           0,           0,           0,           0,           0,           0,           0,           0,           0,           0,           0,           0,           0,           0,           0,           0,           0,           0,           0,           0,\n",
       "                  0,           0,           0,           0,           0,           0,           0,           0,           0,           0,           0,           0,           0,           0,           0,           0,           0,           0,           0,           0,           0,           0,           0,\n",
       "                  0,           0,           0,           0,           0,           0,           0,           0,           0,           0,           0]]), 'Confidence', 'F1'], [array([          0,    0.001001,    0.002002,    0.003003,    0.004004,    0.005005,    0.006006,    0.007007,    0.008008,    0.009009,     0.01001,    0.011011,    0.012012,    0.013013,    0.014014,    0.015015,    0.016016,    0.017017,    0.018018,    0.019019,     0.02002,    0.021021,    0.022022,    0.023023,\n",
       "          0.024024,    0.025025,    0.026026,    0.027027,    0.028028,    0.029029,     0.03003,    0.031031,    0.032032,    0.033033,    0.034034,    0.035035,    0.036036,    0.037037,    0.038038,    0.039039,     0.04004,    0.041041,    0.042042,    0.043043,    0.044044,    0.045045,    0.046046,    0.047047,\n",
       "          0.048048,    0.049049,     0.05005,    0.051051,    0.052052,    0.053053,    0.054054,    0.055055,    0.056056,    0.057057,    0.058058,    0.059059,     0.06006,    0.061061,    0.062062,    0.063063,    0.064064,    0.065065,    0.066066,    0.067067,    0.068068,    0.069069,     0.07007,    0.071071,\n",
       "          0.072072,    0.073073,    0.074074,    0.075075,    0.076076,    0.077077,    0.078078,    0.079079,     0.08008,    0.081081,    0.082082,    0.083083,    0.084084,    0.085085,    0.086086,    0.087087,    0.088088,    0.089089,     0.09009,    0.091091,    0.092092,    0.093093,    0.094094,    0.095095,\n",
       "          0.096096,    0.097097,    0.098098,    0.099099,      0.1001,      0.1011,      0.1021,      0.1031,      0.1041,     0.10511,     0.10611,     0.10711,     0.10811,     0.10911,     0.11011,     0.11111,     0.11211,     0.11311,     0.11411,     0.11512,     0.11612,     0.11712,     0.11812,     0.11912,\n",
       "           0.12012,     0.12112,     0.12212,     0.12312,     0.12412,     0.12513,     0.12613,     0.12713,     0.12813,     0.12913,     0.13013,     0.13113,     0.13213,     0.13313,     0.13413,     0.13514,     0.13614,     0.13714,     0.13814,     0.13914,     0.14014,     0.14114,     0.14214,     0.14314,\n",
       "           0.14414,     0.14515,     0.14615,     0.14715,     0.14815,     0.14915,     0.15015,     0.15115,     0.15215,     0.15315,     0.15415,     0.15516,     0.15616,     0.15716,     0.15816,     0.15916,     0.16016,     0.16116,     0.16216,     0.16316,     0.16416,     0.16517,     0.16617,     0.16717,\n",
       "           0.16817,     0.16917,     0.17017,     0.17117,     0.17217,     0.17317,     0.17417,     0.17518,     0.17618,     0.17718,     0.17818,     0.17918,     0.18018,     0.18118,     0.18218,     0.18318,     0.18418,     0.18519,     0.18619,     0.18719,     0.18819,     0.18919,     0.19019,     0.19119,\n",
       "           0.19219,     0.19319,     0.19419,      0.1952,      0.1962,      0.1972,      0.1982,      0.1992,      0.2002,      0.2012,      0.2022,      0.2032,      0.2042,     0.20521,     0.20621,     0.20721,     0.20821,     0.20921,     0.21021,     0.21121,     0.21221,     0.21321,     0.21421,     0.21522,\n",
       "           0.21622,     0.21722,     0.21822,     0.21922,     0.22022,     0.22122,     0.22222,     0.22322,     0.22422,     0.22523,     0.22623,     0.22723,     0.22823,     0.22923,     0.23023,     0.23123,     0.23223,     0.23323,     0.23423,     0.23524,     0.23624,     0.23724,     0.23824,     0.23924,\n",
       "           0.24024,     0.24124,     0.24224,     0.24324,     0.24424,     0.24525,     0.24625,     0.24725,     0.24825,     0.24925,     0.25025,     0.25125,     0.25225,     0.25325,     0.25425,     0.25526,     0.25626,     0.25726,     0.25826,     0.25926,     0.26026,     0.26126,     0.26226,     0.26326,\n",
       "           0.26426,     0.26527,     0.26627,     0.26727,     0.26827,     0.26927,     0.27027,     0.27127,     0.27227,     0.27327,     0.27427,     0.27528,     0.27628,     0.27728,     0.27828,     0.27928,     0.28028,     0.28128,     0.28228,     0.28328,     0.28428,     0.28529,     0.28629,     0.28729,\n",
       "           0.28829,     0.28929,     0.29029,     0.29129,     0.29229,     0.29329,     0.29429,      0.2953,      0.2963,      0.2973,      0.2983,      0.2993,      0.3003,      0.3013,      0.3023,      0.3033,      0.3043,     0.30531,     0.30631,     0.30731,     0.30831,     0.30931,     0.31031,     0.31131,\n",
       "           0.31231,     0.31331,     0.31431,     0.31532,     0.31632,     0.31732,     0.31832,     0.31932,     0.32032,     0.32132,     0.32232,     0.32332,     0.32432,     0.32533,     0.32633,     0.32733,     0.32833,     0.32933,     0.33033,     0.33133,     0.33233,     0.33333,     0.33433,     0.33534,\n",
       "           0.33634,     0.33734,     0.33834,     0.33934,     0.34034,     0.34134,     0.34234,     0.34334,     0.34434,     0.34535,     0.34635,     0.34735,     0.34835,     0.34935,     0.35035,     0.35135,     0.35235,     0.35335,     0.35435,     0.35536,     0.35636,     0.35736,     0.35836,     0.35936,\n",
       "           0.36036,     0.36136,     0.36236,     0.36336,     0.36436,     0.36537,     0.36637,     0.36737,     0.36837,     0.36937,     0.37037,     0.37137,     0.37237,     0.37337,     0.37437,     0.37538,     0.37638,     0.37738,     0.37838,     0.37938,     0.38038,     0.38138,     0.38238,     0.38338,\n",
       "           0.38438,     0.38539,     0.38639,     0.38739,     0.38839,     0.38939,     0.39039,     0.39139,     0.39239,     0.39339,     0.39439,      0.3954,      0.3964,      0.3974,      0.3984,      0.3994,      0.4004,      0.4014,      0.4024,      0.4034,      0.4044,     0.40541,     0.40641,     0.40741,\n",
       "           0.40841,     0.40941,     0.41041,     0.41141,     0.41241,     0.41341,     0.41441,     0.41542,     0.41642,     0.41742,     0.41842,     0.41942,     0.42042,     0.42142,     0.42242,     0.42342,     0.42442,     0.42543,     0.42643,     0.42743,     0.42843,     0.42943,     0.43043,     0.43143,\n",
       "           0.43243,     0.43343,     0.43443,     0.43544,     0.43644,     0.43744,     0.43844,     0.43944,     0.44044,     0.44144,     0.44244,     0.44344,     0.44444,     0.44545,     0.44645,     0.44745,     0.44845,     0.44945,     0.45045,     0.45145,     0.45245,     0.45345,     0.45445,     0.45546,\n",
       "           0.45646,     0.45746,     0.45846,     0.45946,     0.46046,     0.46146,     0.46246,     0.46346,     0.46446,     0.46547,     0.46647,     0.46747,     0.46847,     0.46947,     0.47047,     0.47147,     0.47247,     0.47347,     0.47447,     0.47548,     0.47648,     0.47748,     0.47848,     0.47948,\n",
       "           0.48048,     0.48148,     0.48248,     0.48348,     0.48448,     0.48549,     0.48649,     0.48749,     0.48849,     0.48949,     0.49049,     0.49149,     0.49249,     0.49349,     0.49449,      0.4955,      0.4965,      0.4975,      0.4985,      0.4995,      0.5005,      0.5015,      0.5025,      0.5035,\n",
       "            0.5045,     0.50551,     0.50651,     0.50751,     0.50851,     0.50951,     0.51051,     0.51151,     0.51251,     0.51351,     0.51451,     0.51552,     0.51652,     0.51752,     0.51852,     0.51952,     0.52052,     0.52152,     0.52252,     0.52352,     0.52452,     0.52553,     0.52653,     0.52753,\n",
       "           0.52853,     0.52953,     0.53053,     0.53153,     0.53253,     0.53353,     0.53453,     0.53554,     0.53654,     0.53754,     0.53854,     0.53954,     0.54054,     0.54154,     0.54254,     0.54354,     0.54454,     0.54555,     0.54655,     0.54755,     0.54855,     0.54955,     0.55055,     0.55155,\n",
       "           0.55255,     0.55355,     0.55455,     0.55556,     0.55656,     0.55756,     0.55856,     0.55956,     0.56056,     0.56156,     0.56256,     0.56356,     0.56456,     0.56557,     0.56657,     0.56757,     0.56857,     0.56957,     0.57057,     0.57157,     0.57257,     0.57357,     0.57457,     0.57558,\n",
       "           0.57658,     0.57758,     0.57858,     0.57958,     0.58058,     0.58158,     0.58258,     0.58358,     0.58458,     0.58559,     0.58659,     0.58759,     0.58859,     0.58959,     0.59059,     0.59159,     0.59259,     0.59359,     0.59459,      0.5956,      0.5966,      0.5976,      0.5986,      0.5996,\n",
       "            0.6006,      0.6016,      0.6026,      0.6036,      0.6046,     0.60561,     0.60661,     0.60761,     0.60861,     0.60961,     0.61061,     0.61161,     0.61261,     0.61361,     0.61461,     0.61562,     0.61662,     0.61762,     0.61862,     0.61962,     0.62062,     0.62162,     0.62262,     0.62362,\n",
       "           0.62462,     0.62563,     0.62663,     0.62763,     0.62863,     0.62963,     0.63063,     0.63163,     0.63263,     0.63363,     0.63463,     0.63564,     0.63664,     0.63764,     0.63864,     0.63964,     0.64064,     0.64164,     0.64264,     0.64364,     0.64464,     0.64565,     0.64665,     0.64765,\n",
       "           0.64865,     0.64965,     0.65065,     0.65165,     0.65265,     0.65365,     0.65465,     0.65566,     0.65666,     0.65766,     0.65866,     0.65966,     0.66066,     0.66166,     0.66266,     0.66366,     0.66466,     0.66567,     0.66667,     0.66767,     0.66867,     0.66967,     0.67067,     0.67167,\n",
       "           0.67267,     0.67367,     0.67467,     0.67568,     0.67668,     0.67768,     0.67868,     0.67968,     0.68068,     0.68168,     0.68268,     0.68368,     0.68468,     0.68569,     0.68669,     0.68769,     0.68869,     0.68969,     0.69069,     0.69169,     0.69269,     0.69369,     0.69469,      0.6957,\n",
       "            0.6967,      0.6977,      0.6987,      0.6997,      0.7007,      0.7017,      0.7027,      0.7037,      0.7047,     0.70571,     0.70671,     0.70771,     0.70871,     0.70971,     0.71071,     0.71171,     0.71271,     0.71371,     0.71471,     0.71572,     0.71672,     0.71772,     0.71872,     0.71972,\n",
       "           0.72072,     0.72172,     0.72272,     0.72372,     0.72472,     0.72573,     0.72673,     0.72773,     0.72873,     0.72973,     0.73073,     0.73173,     0.73273,     0.73373,     0.73473,     0.73574,     0.73674,     0.73774,     0.73874,     0.73974,     0.74074,     0.74174,     0.74274,     0.74374,\n",
       "           0.74474,     0.74575,     0.74675,     0.74775,     0.74875,     0.74975,     0.75075,     0.75175,     0.75275,     0.75375,     0.75475,     0.75576,     0.75676,     0.75776,     0.75876,     0.75976,     0.76076,     0.76176,     0.76276,     0.76376,     0.76476,     0.76577,     0.76677,     0.76777,\n",
       "           0.76877,     0.76977,     0.77077,     0.77177,     0.77277,     0.77377,     0.77477,     0.77578,     0.77678,     0.77778,     0.77878,     0.77978,     0.78078,     0.78178,     0.78278,     0.78378,     0.78478,     0.78579,     0.78679,     0.78779,     0.78879,     0.78979,     0.79079,     0.79179,\n",
       "           0.79279,     0.79379,     0.79479,      0.7958,      0.7968,      0.7978,      0.7988,      0.7998,      0.8008,      0.8018,      0.8028,      0.8038,      0.8048,     0.80581,     0.80681,     0.80781,     0.80881,     0.80981,     0.81081,     0.81181,     0.81281,     0.81381,     0.81481,     0.81582,\n",
       "           0.81682,     0.81782,     0.81882,     0.81982,     0.82082,     0.82182,     0.82282,     0.82382,     0.82482,     0.82583,     0.82683,     0.82783,     0.82883,     0.82983,     0.83083,     0.83183,     0.83283,     0.83383,     0.83483,     0.83584,     0.83684,     0.83784,     0.83884,     0.83984,\n",
       "           0.84084,     0.84184,     0.84284,     0.84384,     0.84484,     0.84585,     0.84685,     0.84785,     0.84885,     0.84985,     0.85085,     0.85185,     0.85285,     0.85385,     0.85485,     0.85586,     0.85686,     0.85786,     0.85886,     0.85986,     0.86086,     0.86186,     0.86286,     0.86386,\n",
       "           0.86486,     0.86587,     0.86687,     0.86787,     0.86887,     0.86987,     0.87087,     0.87187,     0.87287,     0.87387,     0.87487,     0.87588,     0.87688,     0.87788,     0.87888,     0.87988,     0.88088,     0.88188,     0.88288,     0.88388,     0.88488,     0.88589,     0.88689,     0.88789,\n",
       "           0.88889,     0.88989,     0.89089,     0.89189,     0.89289,     0.89389,     0.89489,      0.8959,      0.8969,      0.8979,      0.8989,      0.8999,      0.9009,      0.9019,      0.9029,      0.9039,      0.9049,     0.90591,     0.90691,     0.90791,     0.90891,     0.90991,     0.91091,     0.91191,\n",
       "           0.91291,     0.91391,     0.91491,     0.91592,     0.91692,     0.91792,     0.91892,     0.91992,     0.92092,     0.92192,     0.92292,     0.92392,     0.92492,     0.92593,     0.92693,     0.92793,     0.92893,     0.92993,     0.93093,     0.93193,     0.93293,     0.93393,     0.93493,     0.93594,\n",
       "           0.93694,     0.93794,     0.93894,     0.93994,     0.94094,     0.94194,     0.94294,     0.94394,     0.94494,     0.94595,     0.94695,     0.94795,     0.94895,     0.94995,     0.95095,     0.95195,     0.95295,     0.95395,     0.95495,     0.95596,     0.95696,     0.95796,     0.95896,     0.95996,\n",
       "           0.96096,     0.96196,     0.96296,     0.96396,     0.96496,     0.96597,     0.96697,     0.96797,     0.96897,     0.96997,     0.97097,     0.97197,     0.97297,     0.97397,     0.97497,     0.97598,     0.97698,     0.97798,     0.97898,     0.97998,     0.98098,     0.98198,     0.98298,     0.98398,\n",
       "           0.98498,     0.98599,     0.98699,     0.98799,     0.98899,     0.98999,     0.99099,     0.99199,     0.99299,     0.99399,     0.99499,       0.996,       0.997,       0.998,       0.999,           1]), array([[   0.028602,    0.028602,    0.043773,     0.05802,    0.071865,    0.086417,     0.09962,     0.10922,     0.12103,     0.13024,      0.1401,     0.14877,     0.15619,     0.16521,      0.1737,      0.1811,     0.19054,     0.19717,     0.20176,     0.21067,     0.21954,     0.22606,     0.23197,\n",
       "            0.23751,     0.24342,     0.24748,     0.25188,     0.25728,     0.26431,     0.27023,     0.27522,     0.27713,     0.28384,     0.29007,     0.29482,     0.29967,     0.30574,     0.31118,     0.31488,     0.32038,     0.32317,     0.32692,     0.32922,     0.33216,     0.33618,     0.34296,\n",
       "            0.34612,     0.34847,     0.35231,     0.35422,     0.35767,     0.35946,     0.36171,     0.36318,     0.36744,     0.37107,     0.37306,     0.37813,     0.37957,     0.38266,     0.38268,     0.38524,     0.39075,     0.39377,     0.39611,     0.39945,     0.40176,     0.40483,      0.4069,\n",
       "            0.40977,     0.41347,     0.41755,     0.41893,     0.41983,     0.42274,     0.42791,     0.42871,     0.43079,     0.43354,     0.43718,     0.43925,     0.44335,     0.44691,      0.4488,     0.45064,     0.44987,      0.4503,     0.45129,     0.45363,     0.45622,     0.46022,     0.46013,\n",
       "            0.46263,      0.4642,     0.46475,     0.46549,     0.46832,     0.46879,      0.4694,     0.47069,       0.473,     0.47588,     0.47752,      0.4791,     0.48187,       0.486,      0.4876,     0.48815,     0.48937,     0.49103,     0.49234,     0.49356,      0.4947,     0.49548,     0.49643,\n",
       "            0.49759,     0.50096,     0.50292,     0.50393,     0.50509,     0.50558,     0.50632,     0.50756,     0.50892,     0.51129,      0.5123,     0.51286,     0.51426,     0.51593,     0.51861,     0.51961,     0.52041,     0.52172,     0.52568,     0.52954,     0.53034,     0.53091,     0.53215,\n",
       "            0.53843,     0.54161,     0.54268,     0.54355,     0.54422,     0.54498,     0.54613,      0.5485,     0.54934,     0.55007,     0.55059,     0.55096,     0.55132,     0.55169,     0.55538,     0.55913,     0.56014,     0.56252,     0.56416,     0.56804,     0.56877,      0.5695,      0.5743,\n",
       "            0.57479,     0.57528,      0.5761,     0.57809,     0.58013,     0.58227,     0.58287,     0.58346,     0.58703,     0.58777,      0.5888,     0.59147,      0.5908,     0.59182,     0.59152,     0.59277,     0.59297,     0.59317,     0.59337,     0.59357,     0.59377,     0.59397,     0.59416,\n",
       "            0.59436,     0.59612,     0.59675,     0.59738,     0.59848,     0.59892,     0.59936,      0.5998,     0.60064,     0.60174,     0.60199,     0.60225,      0.6025,     0.60275,       0.603,     0.60326,     0.60416,      0.6058,     0.60675,     0.60892,     0.61293,     0.61421,     0.61491,\n",
       "            0.61562,     0.61797,     0.61844,      0.6189,     0.61937,     0.61908,     0.62002,     0.62282,     0.62377,     0.62286,     0.62375,     0.62754,     0.62888,     0.62946,     0.63004,     0.63047,     0.63079,      0.6311,     0.63142,     0.63173,     0.63204,     0.63422,     0.63516,\n",
       "             0.6361,     0.63818,      0.6387,     0.63922,     0.63974,     0.64053,     0.64161,     0.64438,     0.64501,     0.64564,     0.64698,     0.64821,     0.64868,     0.64914,      0.6496,     0.65012,     0.65105,     0.65198,     0.65438,     0.65489,      0.6554,     0.65592,     0.65769,\n",
       "            0.65939,     0.66062,     0.66148,     0.66234,     0.66766,     0.66876,     0.66975,     0.67073,     0.67318,     0.67446,     0.67517,     0.67469,     0.67434,     0.67487,      0.6754,     0.67593,     0.67646,     0.67562,     0.67582,     0.67635,     0.67689,     0.67743,     0.67876,\n",
       "            0.68039,     0.68171,     0.68546,     0.68678,     0.68727,     0.68777,     0.68827,     0.68876,     0.68977,     0.69112,      0.6939,     0.69582,     0.69545,     0.69492,     0.69597,     0.69705,     0.69672,     0.69615,     0.69587,     0.69558,      0.6953,     0.69602,     0.69725,\n",
       "            0.70019,     0.70102,     0.70184,     0.70392,     0.70469,     0.70448,     0.70427,     0.70406,     0.70385,     0.70451,     0.70523,     0.70595,     0.70648,     0.70683,     0.70718,     0.70753,     0.70788,     0.70823,     0.70858,     0.70783,     0.70915,     0.71038,     0.71093,\n",
       "            0.71147,     0.71201,     0.71256,     0.71268,     0.71254,      0.7124,     0.71226,     0.71212,     0.71198,     0.71184,     0.71279,     0.71676,     0.71695,     0.71955,     0.71902,     0.71959,     0.72027,     0.72094,     0.72162,     0.72202,     0.72242,     0.72282,     0.72323,\n",
       "            0.72363,     0.72403,     0.72442,      0.7248,     0.72518,     0.72556,     0.72594,     0.72631,     0.72669,      0.7279,     0.73294,     0.73454,     0.73483,     0.73446,     0.73409,     0.73567,      0.7369,      0.7371,     0.73731,     0.73751,     0.73771,     0.73792,     0.73812,\n",
       "            0.73832,     0.73853,     0.73873,     0.73893,     0.73914,     0.73934,     0.73955,     0.74051,     0.74195,     0.74285,      0.7435,     0.74414,     0.74478,     0.74565,     0.74711,     0.74816,     0.74837,     0.74857,     0.74878,     0.74898,     0.74919,      0.7494,      0.7496,\n",
       "            0.74981,     0.75001,     0.75022,     0.75043,     0.75063,     0.75084,     0.75122,     0.75185,     0.75247,     0.75309,     0.75372,     0.75463,     0.75563,     0.75662,      0.7577,     0.75879,     0.75996,     0.76148,       0.763,     0.76452,     0.76591,     0.76694,     0.76796,\n",
       "            0.76882,     0.76936,      0.7699,     0.77044,     0.77097,     0.77151,     0.77402,     0.77623,     0.77941,     0.78287,     0.78254,     0.78269,     0.78555,     0.78637,     0.78719,     0.78801,     0.78851,     0.78806,     0.78876,     0.79153,      0.7932,     0.79458,     0.79547,\n",
       "            0.79637,     0.79727,     0.79721,     0.79678,     0.79694,     0.79728,     0.79762,     0.79796,      0.7983,     0.79864,     0.79898,     0.79932,     0.79966,         0.8,     0.80022,     0.80044,     0.80066,     0.80087,     0.80109,     0.80131,     0.80153,     0.80175,     0.80196,\n",
       "            0.80218,      0.8024,     0.80262,     0.80283,     0.80305,     0.80327,     0.80409,     0.80525,      0.8064,     0.80735,     0.80822,     0.80909,     0.80997,     0.80945,     0.81006,     0.81095,     0.81183,     0.81271,     0.81332,     0.81392,     0.81451,      0.8151,      0.8157,\n",
       "            0.81622,     0.81595,     0.81568,     0.81564,     0.81684,     0.81804,     0.81887,     0.81847,     0.81869,     0.82052,     0.82234,     0.82418,     0.82891,      0.8288,     0.82868,     0.82857,     0.82846,     0.82835,     0.82824,     0.82815,     0.82806,     0.82797,     0.82789,\n",
       "             0.8278,     0.82771,     0.82763,     0.82754,     0.82745,     0.83472,      0.8346,     0.83447,     0.83434,     0.83422,     0.83409,     0.83385,     0.83359,     0.83334,     0.83461,     0.83589,     0.83715,     0.83793,     0.83871,     0.83949,     0.84027,     0.84098,     0.84137,\n",
       "            0.84177,     0.84216,     0.84256,     0.84295,     0.84334,     0.84374,     0.84413,     0.84452,     0.84645,     0.84953,     0.85153,     0.85173,      0.8515,     0.85126,     0.85233,     0.85437,      0.8577,     0.85949,     0.86001,     0.86053,     0.86105,     0.86157,     0.86209,\n",
       "            0.86261,     0.86313,     0.86265,     0.86257,     0.86334,     0.86411,     0.86488,     0.86565,      0.8657,     0.86503,     0.86436,     0.86656,     0.86819,     0.86803,     0.86786,      0.8677,     0.86826,     0.86913,     0.87001,     0.87089,     0.87176,     0.87181,     0.87168,\n",
       "            0.87155,     0.87142,     0.87129,     0.87547,     0.87557,     0.87552,     0.87547,     0.87542,     0.87537,     0.87532,     0.87527,     0.87522,     0.87516,     0.87511,     0.87506,     0.87501,     0.87475,     0.87443,      0.8752,      0.8762,     0.87721,     0.87821,     0.87876,\n",
       "            0.87869,     0.87862,     0.87855,     0.87848,     0.87841,     0.87834,     0.87827,      0.8782,     0.87776,      0.8775,     0.87742,     0.87735,     0.87727,      0.8772,     0.87712,     0.87705,     0.87697,     0.87763,     0.87948,     0.88134,      0.8813,     0.88114,     0.88098,\n",
       "            0.88082,     0.88061,      0.8804,     0.88006,     0.88044,     0.88282,     0.88317,     0.88411,     0.88572,     0.88733,     0.88722,     0.88701,     0.88689,     0.88678,     0.88667,     0.88655,     0.89074,     0.89073,     0.89314,      0.8956,      0.8953,     0.89499,     0.89441,\n",
       "            0.89401,     0.89377,     0.89363,      0.8935,     0.89336,     0.89872,     0.90046,      0.9022,     0.90395,      0.9075,     0.90793,     0.90779,     0.90766,     0.90752,     0.90853,     0.90962,      0.9107,     0.91178,     0.91277,     0.91251,     0.91291,     0.91758,     0.91713,\n",
       "            0.91692,     0.91672,      0.9163,     0.91553,     0.92069,     0.92055,     0.92041,     0.92026,     0.92012,     0.91998,     0.91983,     0.91964,     0.91938,        0.92,     0.92147,     0.92294,     0.92441,     0.92471,     0.92422,     0.92384,     0.92347,     0.92394,     0.92801,\n",
       "            0.92891,     0.92876,      0.9286,     0.92736,     0.92712,     0.92705,     0.92697,      0.9269,     0.92682,     0.92674,     0.92617,     0.92565,     0.92516,     0.92503,      0.9249,     0.92477,     0.92457,     0.92413,     0.92408,     0.92403,     0.92397,     0.92392,     0.92387,\n",
       "            0.92382,     0.92377,     0.92372,     0.92367,     0.92361,     0.92346,     0.92331,     0.92315,     0.92293,     0.92265,     0.92221,     0.92108,     0.92745,     0.93317,      0.9326,     0.93222,     0.93177,     0.93155,     0.93134,     0.93108,     0.93081,     0.93068,     0.93058,\n",
       "            0.93048,     0.93038,     0.93028,     0.92958,     0.92935,     0.92912,     0.92889,     0.92866,     0.93164,     0.93533,     0.93472,     0.93384,     0.93362,     0.93339,     0.93205,     0.93128,     0.93084,     0.93059,     0.92937,     0.92864,     0.92709,     0.92663,     0.92628,\n",
       "            0.92593,      0.9245,      0.9237,     0.92348,     0.92327,     0.92299,     0.92228,     0.92188,     0.92142,     0.92044,     0.92878,     0.93274,      0.9367,     0.93714,     0.94371,     0.94556,     0.94532,     0.94507,     0.94902,     0.95333,      0.9591,     0.96629,     0.96603,\n",
       "            0.96551,     0.96544,     0.96536,     0.96529,     0.96521,     0.96514,     0.96422,     0.96393,     0.96352,     0.97526,      0.9752,     0.97513,     0.97507,     0.97501,     0.97481,     0.97461,     0.97444,     0.97429,     0.97416,     0.97402,     0.97378,     0.97348,     0.97331,\n",
       "            0.97327,     0.97324,      0.9732,     0.97316,     0.97313,     0.97309,     0.97305,     0.97302,     0.97298,     0.97281,     0.97262,     0.97166,     0.97131,     0.97102,     0.97015,     0.97003,     0.96992,      0.9698,     0.96996,     0.97274,     0.97552,      0.9783,     0.98108,\n",
       "            0.98386,     0.98431,     0.98411,     0.98403,     0.98396,     0.98388,     0.98331,     0.98325,     0.98318,     0.98312,     0.98305,     0.98295,     0.98285,     0.98275,     0.98265,     0.98255,     0.98238,     0.98204,     0.98187,     0.98158,     0.98096,     0.98058,     0.98009,\n",
       "            0.97934,     0.97857,     0.97819,       0.978,      0.9778,     0.97705,     0.97658,      0.9762,     0.97607,     0.97596,     0.97584,     0.97572,     0.97549,     0.97473,     0.97426,     0.97356,     0.97268,     0.97129,      0.9711,     0.97091,     0.97072,     0.97001,     0.96818,\n",
       "            0.96734,     0.96575,     0.96438,     0.96345,     0.96277,     0.96235,     0.96194,      0.9615,     0.96071,     0.95968,           1,           1,           1,           1,           1,           1,           1,           1,           1,           1,           1,           1,           1,\n",
       "                  1,           1,           1,           1,           1,           1,           1,           1,           1,           1,           1,           1,           1,           1,           1,           1,           1,           1,           1,           1,           1,           1,           1,\n",
       "                  1,           1,           1,           1,           1,           1,           1,           1,           1,           1,           1,           1,           1,           1,           1,           1,           1,           1,           1,           1,           1,           1,           1,\n",
       "                  1,           1,           1,           1,           1,           1,           1,           1,           1,           1,           1,           1,           1,           1,           1,           1,           1,           1,           1,           1,           1,           1,           1,\n",
       "                  1,           1,           1,           1,           1,           1,           1,           1,           1,           1,           1,           1,           1,           1,           1,           1,           1,           1,           1,           1,           1,           1,           1,\n",
       "                  1,           1,           1,           1,           1,           1,           1,           1,           1,           1,           1]]), 'Confidence', 'Precision'], [array([          0,    0.001001,    0.002002,    0.003003,    0.004004,    0.005005,    0.006006,    0.007007,    0.008008,    0.009009,     0.01001,    0.011011,    0.012012,    0.013013,    0.014014,    0.015015,    0.016016,    0.017017,    0.018018,    0.019019,     0.02002,    0.021021,    0.022022,    0.023023,\n",
       "          0.024024,    0.025025,    0.026026,    0.027027,    0.028028,    0.029029,     0.03003,    0.031031,    0.032032,    0.033033,    0.034034,    0.035035,    0.036036,    0.037037,    0.038038,    0.039039,     0.04004,    0.041041,    0.042042,    0.043043,    0.044044,    0.045045,    0.046046,    0.047047,\n",
       "          0.048048,    0.049049,     0.05005,    0.051051,    0.052052,    0.053053,    0.054054,    0.055055,    0.056056,    0.057057,    0.058058,    0.059059,     0.06006,    0.061061,    0.062062,    0.063063,    0.064064,    0.065065,    0.066066,    0.067067,    0.068068,    0.069069,     0.07007,    0.071071,\n",
       "          0.072072,    0.073073,    0.074074,    0.075075,    0.076076,    0.077077,    0.078078,    0.079079,     0.08008,    0.081081,    0.082082,    0.083083,    0.084084,    0.085085,    0.086086,    0.087087,    0.088088,    0.089089,     0.09009,    0.091091,    0.092092,    0.093093,    0.094094,    0.095095,\n",
       "          0.096096,    0.097097,    0.098098,    0.099099,      0.1001,      0.1011,      0.1021,      0.1031,      0.1041,     0.10511,     0.10611,     0.10711,     0.10811,     0.10911,     0.11011,     0.11111,     0.11211,     0.11311,     0.11411,     0.11512,     0.11612,     0.11712,     0.11812,     0.11912,\n",
       "           0.12012,     0.12112,     0.12212,     0.12312,     0.12412,     0.12513,     0.12613,     0.12713,     0.12813,     0.12913,     0.13013,     0.13113,     0.13213,     0.13313,     0.13413,     0.13514,     0.13614,     0.13714,     0.13814,     0.13914,     0.14014,     0.14114,     0.14214,     0.14314,\n",
       "           0.14414,     0.14515,     0.14615,     0.14715,     0.14815,     0.14915,     0.15015,     0.15115,     0.15215,     0.15315,     0.15415,     0.15516,     0.15616,     0.15716,     0.15816,     0.15916,     0.16016,     0.16116,     0.16216,     0.16316,     0.16416,     0.16517,     0.16617,     0.16717,\n",
       "           0.16817,     0.16917,     0.17017,     0.17117,     0.17217,     0.17317,     0.17417,     0.17518,     0.17618,     0.17718,     0.17818,     0.17918,     0.18018,     0.18118,     0.18218,     0.18318,     0.18418,     0.18519,     0.18619,     0.18719,     0.18819,     0.18919,     0.19019,     0.19119,\n",
       "           0.19219,     0.19319,     0.19419,      0.1952,      0.1962,      0.1972,      0.1982,      0.1992,      0.2002,      0.2012,      0.2022,      0.2032,      0.2042,     0.20521,     0.20621,     0.20721,     0.20821,     0.20921,     0.21021,     0.21121,     0.21221,     0.21321,     0.21421,     0.21522,\n",
       "           0.21622,     0.21722,     0.21822,     0.21922,     0.22022,     0.22122,     0.22222,     0.22322,     0.22422,     0.22523,     0.22623,     0.22723,     0.22823,     0.22923,     0.23023,     0.23123,     0.23223,     0.23323,     0.23423,     0.23524,     0.23624,     0.23724,     0.23824,     0.23924,\n",
       "           0.24024,     0.24124,     0.24224,     0.24324,     0.24424,     0.24525,     0.24625,     0.24725,     0.24825,     0.24925,     0.25025,     0.25125,     0.25225,     0.25325,     0.25425,     0.25526,     0.25626,     0.25726,     0.25826,     0.25926,     0.26026,     0.26126,     0.26226,     0.26326,\n",
       "           0.26426,     0.26527,     0.26627,     0.26727,     0.26827,     0.26927,     0.27027,     0.27127,     0.27227,     0.27327,     0.27427,     0.27528,     0.27628,     0.27728,     0.27828,     0.27928,     0.28028,     0.28128,     0.28228,     0.28328,     0.28428,     0.28529,     0.28629,     0.28729,\n",
       "           0.28829,     0.28929,     0.29029,     0.29129,     0.29229,     0.29329,     0.29429,      0.2953,      0.2963,      0.2973,      0.2983,      0.2993,      0.3003,      0.3013,      0.3023,      0.3033,      0.3043,     0.30531,     0.30631,     0.30731,     0.30831,     0.30931,     0.31031,     0.31131,\n",
       "           0.31231,     0.31331,     0.31431,     0.31532,     0.31632,     0.31732,     0.31832,     0.31932,     0.32032,     0.32132,     0.32232,     0.32332,     0.32432,     0.32533,     0.32633,     0.32733,     0.32833,     0.32933,     0.33033,     0.33133,     0.33233,     0.33333,     0.33433,     0.33534,\n",
       "           0.33634,     0.33734,     0.33834,     0.33934,     0.34034,     0.34134,     0.34234,     0.34334,     0.34434,     0.34535,     0.34635,     0.34735,     0.34835,     0.34935,     0.35035,     0.35135,     0.35235,     0.35335,     0.35435,     0.35536,     0.35636,     0.35736,     0.35836,     0.35936,\n",
       "           0.36036,     0.36136,     0.36236,     0.36336,     0.36436,     0.36537,     0.36637,     0.36737,     0.36837,     0.36937,     0.37037,     0.37137,     0.37237,     0.37337,     0.37437,     0.37538,     0.37638,     0.37738,     0.37838,     0.37938,     0.38038,     0.38138,     0.38238,     0.38338,\n",
       "           0.38438,     0.38539,     0.38639,     0.38739,     0.38839,     0.38939,     0.39039,     0.39139,     0.39239,     0.39339,     0.39439,      0.3954,      0.3964,      0.3974,      0.3984,      0.3994,      0.4004,      0.4014,      0.4024,      0.4034,      0.4044,     0.40541,     0.40641,     0.40741,\n",
       "           0.40841,     0.40941,     0.41041,     0.41141,     0.41241,     0.41341,     0.41441,     0.41542,     0.41642,     0.41742,     0.41842,     0.41942,     0.42042,     0.42142,     0.42242,     0.42342,     0.42442,     0.42543,     0.42643,     0.42743,     0.42843,     0.42943,     0.43043,     0.43143,\n",
       "           0.43243,     0.43343,     0.43443,     0.43544,     0.43644,     0.43744,     0.43844,     0.43944,     0.44044,     0.44144,     0.44244,     0.44344,     0.44444,     0.44545,     0.44645,     0.44745,     0.44845,     0.44945,     0.45045,     0.45145,     0.45245,     0.45345,     0.45445,     0.45546,\n",
       "           0.45646,     0.45746,     0.45846,     0.45946,     0.46046,     0.46146,     0.46246,     0.46346,     0.46446,     0.46547,     0.46647,     0.46747,     0.46847,     0.46947,     0.47047,     0.47147,     0.47247,     0.47347,     0.47447,     0.47548,     0.47648,     0.47748,     0.47848,     0.47948,\n",
       "           0.48048,     0.48148,     0.48248,     0.48348,     0.48448,     0.48549,     0.48649,     0.48749,     0.48849,     0.48949,     0.49049,     0.49149,     0.49249,     0.49349,     0.49449,      0.4955,      0.4965,      0.4975,      0.4985,      0.4995,      0.5005,      0.5015,      0.5025,      0.5035,\n",
       "            0.5045,     0.50551,     0.50651,     0.50751,     0.50851,     0.50951,     0.51051,     0.51151,     0.51251,     0.51351,     0.51451,     0.51552,     0.51652,     0.51752,     0.51852,     0.51952,     0.52052,     0.52152,     0.52252,     0.52352,     0.52452,     0.52553,     0.52653,     0.52753,\n",
       "           0.52853,     0.52953,     0.53053,     0.53153,     0.53253,     0.53353,     0.53453,     0.53554,     0.53654,     0.53754,     0.53854,     0.53954,     0.54054,     0.54154,     0.54254,     0.54354,     0.54454,     0.54555,     0.54655,     0.54755,     0.54855,     0.54955,     0.55055,     0.55155,\n",
       "           0.55255,     0.55355,     0.55455,     0.55556,     0.55656,     0.55756,     0.55856,     0.55956,     0.56056,     0.56156,     0.56256,     0.56356,     0.56456,     0.56557,     0.56657,     0.56757,     0.56857,     0.56957,     0.57057,     0.57157,     0.57257,     0.57357,     0.57457,     0.57558,\n",
       "           0.57658,     0.57758,     0.57858,     0.57958,     0.58058,     0.58158,     0.58258,     0.58358,     0.58458,     0.58559,     0.58659,     0.58759,     0.58859,     0.58959,     0.59059,     0.59159,     0.59259,     0.59359,     0.59459,      0.5956,      0.5966,      0.5976,      0.5986,      0.5996,\n",
       "            0.6006,      0.6016,      0.6026,      0.6036,      0.6046,     0.60561,     0.60661,     0.60761,     0.60861,     0.60961,     0.61061,     0.61161,     0.61261,     0.61361,     0.61461,     0.61562,     0.61662,     0.61762,     0.61862,     0.61962,     0.62062,     0.62162,     0.62262,     0.62362,\n",
       "           0.62462,     0.62563,     0.62663,     0.62763,     0.62863,     0.62963,     0.63063,     0.63163,     0.63263,     0.63363,     0.63463,     0.63564,     0.63664,     0.63764,     0.63864,     0.63964,     0.64064,     0.64164,     0.64264,     0.64364,     0.64464,     0.64565,     0.64665,     0.64765,\n",
       "           0.64865,     0.64965,     0.65065,     0.65165,     0.65265,     0.65365,     0.65465,     0.65566,     0.65666,     0.65766,     0.65866,     0.65966,     0.66066,     0.66166,     0.66266,     0.66366,     0.66466,     0.66567,     0.66667,     0.66767,     0.66867,     0.66967,     0.67067,     0.67167,\n",
       "           0.67267,     0.67367,     0.67467,     0.67568,     0.67668,     0.67768,     0.67868,     0.67968,     0.68068,     0.68168,     0.68268,     0.68368,     0.68468,     0.68569,     0.68669,     0.68769,     0.68869,     0.68969,     0.69069,     0.69169,     0.69269,     0.69369,     0.69469,      0.6957,\n",
       "            0.6967,      0.6977,      0.6987,      0.6997,      0.7007,      0.7017,      0.7027,      0.7037,      0.7047,     0.70571,     0.70671,     0.70771,     0.70871,     0.70971,     0.71071,     0.71171,     0.71271,     0.71371,     0.71471,     0.71572,     0.71672,     0.71772,     0.71872,     0.71972,\n",
       "           0.72072,     0.72172,     0.72272,     0.72372,     0.72472,     0.72573,     0.72673,     0.72773,     0.72873,     0.72973,     0.73073,     0.73173,     0.73273,     0.73373,     0.73473,     0.73574,     0.73674,     0.73774,     0.73874,     0.73974,     0.74074,     0.74174,     0.74274,     0.74374,\n",
       "           0.74474,     0.74575,     0.74675,     0.74775,     0.74875,     0.74975,     0.75075,     0.75175,     0.75275,     0.75375,     0.75475,     0.75576,     0.75676,     0.75776,     0.75876,     0.75976,     0.76076,     0.76176,     0.76276,     0.76376,     0.76476,     0.76577,     0.76677,     0.76777,\n",
       "           0.76877,     0.76977,     0.77077,     0.77177,     0.77277,     0.77377,     0.77477,     0.77578,     0.77678,     0.77778,     0.77878,     0.77978,     0.78078,     0.78178,     0.78278,     0.78378,     0.78478,     0.78579,     0.78679,     0.78779,     0.78879,     0.78979,     0.79079,     0.79179,\n",
       "           0.79279,     0.79379,     0.79479,      0.7958,      0.7968,      0.7978,      0.7988,      0.7998,      0.8008,      0.8018,      0.8028,      0.8038,      0.8048,     0.80581,     0.80681,     0.80781,     0.80881,     0.80981,     0.81081,     0.81181,     0.81281,     0.81381,     0.81481,     0.81582,\n",
       "           0.81682,     0.81782,     0.81882,     0.81982,     0.82082,     0.82182,     0.82282,     0.82382,     0.82482,     0.82583,     0.82683,     0.82783,     0.82883,     0.82983,     0.83083,     0.83183,     0.83283,     0.83383,     0.83483,     0.83584,     0.83684,     0.83784,     0.83884,     0.83984,\n",
       "           0.84084,     0.84184,     0.84284,     0.84384,     0.84484,     0.84585,     0.84685,     0.84785,     0.84885,     0.84985,     0.85085,     0.85185,     0.85285,     0.85385,     0.85485,     0.85586,     0.85686,     0.85786,     0.85886,     0.85986,     0.86086,     0.86186,     0.86286,     0.86386,\n",
       "           0.86486,     0.86587,     0.86687,     0.86787,     0.86887,     0.86987,     0.87087,     0.87187,     0.87287,     0.87387,     0.87487,     0.87588,     0.87688,     0.87788,     0.87888,     0.87988,     0.88088,     0.88188,     0.88288,     0.88388,     0.88488,     0.88589,     0.88689,     0.88789,\n",
       "           0.88889,     0.88989,     0.89089,     0.89189,     0.89289,     0.89389,     0.89489,      0.8959,      0.8969,      0.8979,      0.8989,      0.8999,      0.9009,      0.9019,      0.9029,      0.9039,      0.9049,     0.90591,     0.90691,     0.90791,     0.90891,     0.90991,     0.91091,     0.91191,\n",
       "           0.91291,     0.91391,     0.91491,     0.91592,     0.91692,     0.91792,     0.91892,     0.91992,     0.92092,     0.92192,     0.92292,     0.92392,     0.92492,     0.92593,     0.92693,     0.92793,     0.92893,     0.92993,     0.93093,     0.93193,     0.93293,     0.93393,     0.93493,     0.93594,\n",
       "           0.93694,     0.93794,     0.93894,     0.93994,     0.94094,     0.94194,     0.94294,     0.94394,     0.94494,     0.94595,     0.94695,     0.94795,     0.94895,     0.94995,     0.95095,     0.95195,     0.95295,     0.95395,     0.95495,     0.95596,     0.95696,     0.95796,     0.95896,     0.95996,\n",
       "           0.96096,     0.96196,     0.96296,     0.96396,     0.96496,     0.96597,     0.96697,     0.96797,     0.96897,     0.96997,     0.97097,     0.97197,     0.97297,     0.97397,     0.97497,     0.97598,     0.97698,     0.97798,     0.97898,     0.97998,     0.98098,     0.98198,     0.98298,     0.98398,\n",
       "           0.98498,     0.98599,     0.98699,     0.98799,     0.98899,     0.98999,     0.99099,     0.99199,     0.99299,     0.99399,     0.99499,       0.996,       0.997,       0.998,       0.999,           1]), array([[    0.96787,     0.96787,     0.95582,     0.93976,     0.93976,     0.93976,     0.93976,     0.93173,     0.93173,     0.93173,     0.93173,     0.93173,     0.92771,     0.92771,     0.92771,     0.92369,     0.92369,     0.91968,     0.91165,     0.91165,     0.91165,     0.91165,     0.90763,\n",
       "            0.90763,     0.90763,      0.8996,     0.89558,     0.89558,     0.89558,     0.89157,     0.89157,     0.88353,     0.88353,     0.88353,     0.88353,     0.87952,     0.87952,     0.87952,     0.87952,     0.87952,     0.87952,     0.87952,     0.87952,     0.87952,     0.87952,     0.87952,\n",
       "            0.87952,     0.87952,     0.87952,     0.87673,      0.8755,      0.8755,      0.8755,      0.8755,      0.8755,      0.8755,      0.8755,      0.8755,      0.8755,      0.8755,     0.87149,     0.87149,     0.87149,     0.87149,     0.86747,     0.86345,     0.86345,     0.86345,     0.86345,\n",
       "            0.86345,     0.86345,     0.86345,     0.86345,     0.86345,     0.86345,     0.86345,     0.86345,     0.86345,     0.86345,     0.86345,     0.86345,     0.86345,     0.86345,     0.86345,     0.86345,     0.86043,     0.85944,     0.85944,     0.85944,     0.85944,     0.85944,     0.85542,\n",
       "            0.85542,     0.85542,     0.85542,     0.85542,     0.85542,     0.85542,     0.85542,     0.85542,     0.85542,     0.85542,     0.85542,     0.85542,     0.85542,     0.85542,     0.85542,     0.85542,     0.85542,     0.85542,     0.85542,     0.85542,     0.85542,     0.85542,     0.85542,\n",
       "            0.85542,     0.85542,     0.85542,     0.85542,     0.85542,     0.85542,     0.85542,     0.85542,     0.85542,     0.85542,     0.85542,     0.85542,     0.85542,     0.85542,     0.85542,     0.85542,     0.85542,     0.85542,     0.85542,     0.85542,     0.85542,     0.85542,     0.85542,\n",
       "            0.85542,     0.85542,     0.85542,     0.85542,     0.85542,     0.85542,     0.85542,     0.85542,     0.85542,     0.85542,     0.85542,     0.85542,     0.85542,     0.85542,     0.85542,     0.85542,     0.85542,     0.85542,     0.85542,     0.85542,     0.85542,     0.85542,     0.85542,\n",
       "            0.85542,     0.85542,     0.85542,     0.85542,     0.85542,     0.85542,     0.85542,     0.85542,     0.85542,     0.85542,     0.85542,     0.85472,     0.85237,     0.85014,     0.84739,     0.84739,     0.84739,     0.84739,     0.84739,     0.84739,     0.84739,     0.84739,     0.84739,\n",
       "            0.84739,     0.84739,     0.84739,     0.84739,     0.84337,     0.84337,     0.84337,     0.84337,     0.84337,     0.84337,     0.84337,     0.84337,     0.84337,     0.84337,     0.84337,     0.84337,     0.84337,     0.84337,     0.84337,     0.84337,     0.84337,     0.84337,     0.84337,\n",
       "            0.84337,     0.84337,     0.84337,     0.84337,     0.84337,     0.83936,     0.83936,     0.83936,     0.83936,     0.83572,     0.83534,     0.83534,     0.83534,     0.83534,     0.83534,     0.83534,     0.83534,     0.83534,     0.83534,     0.83534,     0.83534,     0.83534,     0.83534,\n",
       "            0.83534,     0.83534,     0.83534,     0.83534,     0.83534,     0.83534,     0.83534,     0.83534,     0.83534,     0.83534,     0.83534,     0.83534,     0.83534,     0.83534,     0.83534,     0.83534,     0.83534,     0.83534,     0.83534,     0.83534,     0.83534,     0.83534,     0.83534,\n",
       "            0.83534,     0.83534,     0.83534,     0.83534,     0.83534,     0.83534,     0.83534,     0.83534,     0.83534,     0.83534,     0.83475,     0.83292,     0.83133,     0.83133,     0.83133,     0.83133,     0.83133,     0.82809,     0.82731,     0.82731,     0.82731,     0.82731,     0.82731,\n",
       "            0.82731,     0.82731,     0.82731,     0.82731,     0.82731,     0.82731,     0.82731,     0.82731,     0.82731,     0.82731,     0.82731,     0.82731,     0.82539,     0.82333,     0.82329,     0.82329,     0.82113,     0.81892,     0.81782,     0.81673,     0.81563,     0.81526,     0.81526,\n",
       "            0.81526,     0.81526,     0.81526,     0.81526,     0.81459,     0.81377,     0.81295,     0.81212,      0.8113,     0.81124,     0.81124,     0.81124,     0.81124,     0.81124,     0.81124,     0.81124,     0.81124,     0.81124,     0.81124,     0.80757,     0.80723,     0.80723,     0.80723,\n",
       "            0.80723,     0.80723,     0.80723,     0.80689,     0.80634,     0.80579,     0.80524,     0.80469,     0.80415,      0.8036,     0.80321,     0.80288,      0.7992,     0.79341,     0.79135,     0.79116,     0.79116,     0.79116,     0.79116,     0.79116,     0.79116,     0.79116,     0.79116,\n",
       "            0.79116,     0.79116,     0.79116,     0.79116,     0.79116,     0.79116,     0.79116,     0.79116,     0.79116,     0.79116,     0.79116,     0.79116,     0.79017,     0.78867,     0.78717,     0.78715,     0.78715,     0.78715,     0.78715,     0.78715,     0.78715,     0.78715,     0.78715,\n",
       "            0.78715,     0.78715,     0.78715,     0.78715,     0.78715,     0.78715,     0.78715,     0.78715,     0.78715,     0.78715,     0.78715,     0.78715,     0.78715,     0.78715,     0.78715,     0.78715,     0.78715,     0.78715,     0.78715,     0.78715,     0.78715,     0.78715,     0.78715,\n",
       "            0.78715,     0.78715,     0.78715,     0.78715,     0.78715,     0.78715,     0.78715,     0.78715,     0.78715,     0.78715,     0.78715,     0.78715,     0.78715,     0.78715,     0.78715,     0.78715,     0.78715,     0.78715,     0.78715,     0.78715,     0.78715,     0.78715,     0.78715,\n",
       "            0.78715,     0.78715,     0.78715,     0.78715,     0.78715,     0.78715,     0.78409,     0.78313,     0.78313,     0.78191,     0.78042,     0.77912,     0.77912,     0.77912,     0.77912,     0.77912,     0.77859,     0.77653,      0.7751,      0.7751,      0.7751,      0.7751,      0.7751,\n",
       "             0.7751,      0.7751,     0.77362,     0.77156,     0.77108,     0.77108,     0.77108,     0.77108,     0.77108,     0.77108,     0.77108,     0.77108,     0.77108,     0.77108,     0.77108,     0.77108,     0.77108,     0.77108,     0.77108,     0.77108,     0.77108,     0.77108,     0.77108,\n",
       "            0.77108,     0.77108,     0.77108,     0.77108,     0.77108,     0.77108,     0.77108,     0.77108,     0.77108,     0.77108,     0.77108,     0.77108,     0.77108,     0.76772,     0.76707,     0.76707,     0.76707,     0.76707,     0.76707,     0.76707,     0.76707,     0.76707,     0.76707,\n",
       "            0.76695,     0.76558,     0.76421,     0.76305,     0.76305,     0.76305,     0.76258,     0.76052,     0.75904,     0.75904,     0.75904,     0.75904,     0.75881,     0.75823,     0.75764,     0.75705,     0.75646,     0.75587,     0.75529,     0.75477,     0.75431,     0.75385,      0.7534,\n",
       "            0.75294,     0.75248,     0.75202,     0.75157,     0.75111,     0.75048,     0.74979,      0.7491,     0.74842,     0.74773,     0.74705,     0.74573,     0.74436,     0.74299,     0.74297,     0.74297,     0.74297,     0.74297,     0.74297,     0.74297,     0.74297,     0.74297,     0.74297,\n",
       "            0.74297,     0.74297,     0.74297,     0.74297,     0.74297,     0.74297,     0.74297,     0.74297,     0.74297,     0.74297,     0.74297,     0.73827,      0.7369,     0.73552,     0.73494,     0.73494,     0.73494,     0.73494,     0.73494,     0.73494,     0.73494,     0.73494,     0.73494,\n",
       "            0.73494,     0.73494,     0.73147,     0.72691,     0.72691,     0.72691,     0.72691,     0.72691,     0.72484,     0.72073,     0.71661,     0.71486,     0.71424,     0.71321,     0.71218,     0.71116,     0.71084,     0.71084,     0.71084,     0.71084,     0.71084,     0.71017,     0.70935,\n",
       "            0.70852,      0.7077,     0.70688,     0.70683,     0.70651,     0.70618,     0.70585,     0.70552,     0.70519,     0.70486,     0.70453,      0.7042,     0.70387,     0.70355,     0.70322,     0.70289,     0.70123,     0.69917,      0.6988,      0.6988,      0.6988,      0.6988,      0.6986,\n",
       "            0.69814,     0.69768,     0.69723,     0.69677,     0.69631,     0.69585,      0.6954,     0.69494,     0.69211,     0.69044,     0.68995,     0.68947,     0.68898,      0.6885,     0.68802,     0.68753,     0.68705,     0.68675,     0.68675,     0.68675,     0.68578,     0.68475,     0.68372,\n",
       "            0.68268,      0.6813,     0.67993,     0.67779,     0.67068,     0.67068,     0.66791,     0.66667,     0.66667,     0.66667,     0.66349,     0.66205,     0.66131,     0.66056,     0.65981,     0.65906,     0.65863,     0.65476,     0.65462,     0.65459,     0.65253,     0.65034,     0.64634,\n",
       "             0.6436,       0.642,     0.64108,     0.64017,     0.63925,     0.63855,     0.63855,     0.63855,     0.63454,     0.63454,     0.63367,     0.63264,     0.63161,     0.63058,     0.63052,     0.63052,     0.63052,     0.63052,     0.63039,     0.62833,     0.62651,     0.62594,     0.62222,\n",
       "            0.62058,     0.61893,      0.6155,     0.60937,     0.60609,     0.60491,     0.60374,     0.60256,     0.60139,     0.60021,     0.59903,     0.59746,      0.5954,     0.59438,     0.59438,     0.59438,     0.59438,      0.5919,     0.58778,     0.58456,     0.58156,     0.57831,     0.57831,\n",
       "            0.57729,     0.57591,     0.57454,     0.56401,     0.56202,     0.56139,     0.56076,     0.56012,     0.55949,     0.55886,     0.55415,     0.55003,     0.54612,     0.54509,     0.54406,     0.54303,      0.5415,     0.53808,     0.53769,     0.53729,      0.5369,     0.53651,     0.53612,\n",
       "            0.53573,     0.53533,     0.53494,     0.53455,     0.53416,     0.53303,     0.53185,     0.53067,     0.52903,     0.52697,     0.52372,     0.51559,     0.50602,     0.50467,     0.50015,     0.49712,     0.49359,     0.49194,     0.49029,     0.48832,     0.48626,     0.48531,     0.48456,\n",
       "            0.48381,     0.48306,     0.48232,     0.47712,     0.47547,     0.47383,     0.47218,     0.47053,     0.46988,     0.46471,     0.46006,      0.4535,     0.45186,     0.45021,     0.44069,     0.43539,     0.43242,     0.43077,     0.42274,      0.4181,     0.40852,     0.40577,     0.40368,\n",
       "            0.40162,     0.39342,     0.38893,     0.38776,     0.38658,     0.38506,     0.38124,     0.37918,     0.37673,     0.37173,     0.36145,     0.36145,     0.36145,     0.35925,     0.35743,      0.3488,     0.34716,     0.34551,     0.34538,     0.34538,     0.34538,     0.34533,     0.34258,\n",
       "             0.3373,     0.33655,      0.3358,     0.33505,      0.3343,     0.33356,     0.32471,     0.32197,     0.31819,     0.31663,     0.31581,     0.31498,     0.31416,     0.31334,     0.31079,     0.30834,     0.30629,     0.30443,     0.30278,     0.30108,     0.29834,      0.2948,     0.29292,\n",
       "            0.29251,      0.2921,     0.29169,     0.29128,     0.29087,     0.29045,     0.29004,     0.28963,     0.28922,     0.28741,     0.28535,     0.27542,      0.2719,     0.26916,     0.26106,     0.26002,     0.25899,     0.25796,     0.25703,     0.25703,     0.25703,     0.25703,     0.25703,\n",
       "            0.25703,     0.25203,     0.24869,     0.24751,     0.24633,     0.24516,     0.23662,      0.2357,     0.23479,     0.23387,     0.23296,      0.2316,     0.23023,     0.22885,     0.22748,     0.22611,     0.22393,     0.21959,     0.21753,     0.21407,      0.2069,     0.20284,     0.19771,\n",
       "            0.19039,     0.18345,     0.18017,     0.17852,     0.17687,       0.171,     0.16748,     0.16474,     0.16386,     0.16303,     0.16221,     0.16139,     0.15987,     0.15496,     0.15202,      0.1479,       0.143,      0.1359,     0.13499,     0.13407,     0.13316,     0.12995,     0.12223,\n",
       "            0.11899,     0.11328,     0.10875,      0.1059,     0.10388,      0.1027,     0.10152,     0.10031,    0.098249,    0.095606,     0.09228,    0.091532,    0.090783,    0.090035,    0.089286,    0.088538,    0.081236,     0.07872,    0.076662,    0.074604,    0.072545,    0.071388,    0.070359,\n",
       "            0.06933,    0.068301,    0.062655,    0.061008,    0.059613,    0.058437,     0.05726,    0.055979,     0.05392,    0.052011,    0.050835,    0.049658,    0.048482,    0.043978,    0.043229,    0.042481,    0.041732,    0.040984,    0.040235,     0.03769,    0.032547,     0.03157,    0.030982,\n",
       "           0.030394,    0.029806,    0.029218,     0.02863,    0.027783,    0.025038,    0.019617,    0.016872,    0.011936,    0.011422,    0.010907,    0.010392,   0.0098778,   0.0093633,   0.0088487,   0.0083341,   0.0077705,   0.0071372,   0.0065039,   0.0058706,   0.0052372,   0.0046039,           0,\n",
       "                  0,           0,           0,           0,           0,           0,           0,           0,           0,           0,           0,           0,           0,           0,           0,           0,           0,           0,           0,           0,           0,           0,           0,\n",
       "                  0,           0,           0,           0,           0,           0,           0,           0,           0,           0,           0,           0,           0,           0,           0,           0,           0,           0,           0,           0,           0,           0,           0,\n",
       "                  0,           0,           0,           0,           0,           0,           0,           0,           0,           0,           0]]), 'Confidence', 'Recall']]\n",
       "fitness: 0.6395278229660717\n",
       "keys: ['metrics/precision(B)', 'metrics/recall(B)', 'metrics/mAP50(B)', 'metrics/mAP50-95(B)']\n",
       "maps: array([    0.62048])\n",
       "names: {0: 'crack'}\n",
       "plot: True\n",
       "results_dict: {'metrics/precision(B)': 0.8274536670700563, 'metrics/recall(B)': 0.7511098782852464, 'metrics/mAP50(B)': 0.8109159482328343, 'metrics/mAP50-95(B)': 0.6204846979364314, 'fitness': 0.6395278229660717}\n",
       "save_dir: PosixPath('runs/detect/train')\n",
       "speed: {'preprocess': 0.24055719375610352, 'inference': 3.2345938682556152, 'loss': 0.00043272972106933594, 'postprocess': 5.6335461139678955}\n",
       "task: 'detect'"
      ]
     },
     "execution_count": 6,
     "metadata": {},
     "output_type": "execute_result"
    }
   ],
   "source": [
    "model.train(data = \"/content/crack-2/data.yaml\", epochs = 32, batch = 32)"
   ]
  },
  {
   "cell_type": "code",
   "execution_count": null,
   "metadata": {
    "id": "FIqIXw0IQiW-"
   },
   "outputs": [],
   "source": []
  }
 ],
 "metadata": {
  "accelerator": "GPU",
  "colab": {
   "gpuType": "T4",
   "provenance": []
  },
  "kernelspec": {
   "display_name": "Python 3 (ipykernel)",
   "language": "python",
   "name": "python3"
  },
  "language_info": {
   "codemirror_mode": {
    "name": "ipython",
    "version": 3
   },
   "file_extension": ".py",
   "mimetype": "text/x-python",
   "name": "python",
   "nbconvert_exporter": "python",
   "pygments_lexer": "ipython3",
   "version": "3.11.4"
  }
 },
 "nbformat": 4,
 "nbformat_minor": 1
}
